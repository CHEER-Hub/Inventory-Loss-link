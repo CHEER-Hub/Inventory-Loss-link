{
 "cells": [
  {
   "cell_type": "code",
   "execution_count": 1,
   "id": "b2b562c9",
   "metadata": {},
   "outputs": [],
   "source": [
    "# Import the Inventory_Loss module \n",
    "from Inv_Loss_Link import Inventory_Loss"
   ]
  },
  {
   "cell_type": "code",
   "execution_count": 2,
   "id": "7ae9760c",
   "metadata": {},
   "outputs": [
    {
     "name": "stdout",
     "output_type": "stream",
     "text": [
      "Downloading sample files...\n",
      "Unzipping...\n",
      "Extracted to: .\n"
     ]
    }
   ],
   "source": [
    "cwd='.' # Defaulted at '.', i.e., the local folder.\n",
    "\n",
    "# First, instantiate the loss modeul and download sample files if \n",
    "# Download=True populated the folder with useful file to run the code; otherwise, those have to be populated by the user\n",
    "# You may switch Download to False upon downloading files once\n",
    "Loss=Inventory_Loss(cwd,Download=True)"
   ]
  },
  {
   "cell_type": "code",
   "execution_count": null,
   "id": "c6f1c149",
   "metadata": {},
   "outputs": [
    {
     "name": "stdout",
     "output_type": "stream",
     "text": [
      "Probabilities summation (should be one; small numerical errors are fine): 1.0000000000000004\n",
      "Dictionary to map inventory to configurations is created at:\t./Intermediate_outputs/lookup_N.pkl\n",
      "New look-up table (configuration (Z) -> global loss ratio) is created at:\t./Intermediate_outputs/Z_transform1.pkl\n"
     ]
    }
   ],
   "source": [
    "# Perform the Z-transformation (https://cheer-hub.github.io/Inventory-Loss-link/Details.html) and save updated tables and Z-transformation dictionary.\n",
    "Loss.Define_new_table(cwd_look='ProbDS_cwfd_MaxIter3000.pkl')"
   ]
  },
  {
   "cell_type": "code",
   "execution_count": 6,
   "id": "3d5e5896",
   "metadata": {},
   "outputs": [
    {
     "name": "stdout",
     "output_type": "stream",
     "text": [
      "Updated inventory (filtered for archetypes and updated with Z values) stored at:\t ./Intermediate_outputs/NC_Inventory_v1_AI_Imputed_Z.parquet\n"
     ]
    }
   ],
   "source": [
    "# Add a column named \"Z\" to the inventory, which encodes the configuration of each row for subsequent loss estimation steps.\n",
    "# It is strongly recommended to read the documentation at \"https://cheer-hub.github.io/Inventory-Loss-link/Data_Fusion.html\" to understand how the column names \n",
    "# (e.g., `blgtype_col`, `roof_col`, etc.) should be defined based on the structure of your inventory file.\n",
    "\n",
    "#If Mode is set as \"Test\" it runs the test Z-transfromation data to check the integrity of the code\n",
    "\n",
    "Loss.Inv_Z_Transformation(\n",
    "    cwd_inv='NC_Inventory_v1_AI_Imputed',\n",
    "    blgtype_col=['bldgtype', ['W']],\n",
    "    roof_col=['roof_shape_1', ['Cross Gable', 'Complex Gable', 'Gable'], ['Hip', 'Cross Hip']],\n",
    "    story_col=['Story_AI', [1], [2]],\n",
    "    garage_col=['Garage', [0], [1]],\n",
    "    res_col=['PRIM_OCC', ['Single Family Dwelling']],\n",
    "    year_col=['med_yr_blt'],\n",
    "    Coast_D_col=['Coast_D (miles)', [1]],\n",
    "    val_struct_col=['val_struct'],\n",
    "    Mode=''\n",
    ")"
   ]
  },
  {
   "cell_type": "code",
   "execution_count": 7,
   "id": "808cf602",
   "metadata": {},
   "outputs": [
    {
     "data": {
      "application/vnd.jupyter.widget-view+json": {
       "model_id": "f3d93448e10d40e1894f6dc3eabff4a9",
       "version_major": 2,
       "version_minor": 0
      },
      "text/plain": [
       "Hazard instances::   0%|          | 0/692 [00:00<?, ?it/s]"
      ]
     },
     "metadata": {},
     "output_type": "display_data"
    }
   ],
   "source": [
    "# Match hazard intensities at building level\n",
    "# Please refer to the Documentation at \"https://cheer-hub.github.io/Inventory-Loss-link/Data_Fusion.html\" to get a description of the parameters.\n",
    "Loss.Hazard_Inv_map(cwd_inv='NC_Inventory_v1_AI_Imputed',cwd_haz='TC_Wise',W_ind=3,I_ind=4,Tr_F=39.3701,Tr_W=2.23694,Average_Mode='Inverse_d4',Mode='')\n"
   ]
  },
  {
   "cell_type": "code",
   "execution_count": 8,
   "id": "91f125c1",
   "metadata": {},
   "outputs": [
    {
     "data": {
      "application/vnd.jupyter.widget-view+json": {
       "model_id": "66f5e1bfe06b4ac2a66d407524d0e949",
       "version_major": 2,
       "version_minor": 0
      },
      "text/plain": [
       "Hazard instances::   0%|          | 0/692 [00:00<?, ?it/s]"
      ]
     },
     "metadata": {},
     "output_type": "display_data"
    },
    {
     "name": "stdout",
     "output_type": "stream",
     "text": [
      "Inventory-level are stored at:\t ./Loss_estimates/TC_Wise/NC_Inventory_v1_AI_Imputed\n",
      "zone-level are stored at:\t ./Loss_estimates/TC_Wise/NC_Inventory_v1_AI_Imputed/Zones/leaphi_zones_20230920\n"
     ]
    }
   ],
   "source": [
    "# Estimate the loss in M at building level and for regions if specified by the user.\n",
    "# Please refer to the Documentation at \"https://cheer-hub.github.io/Inventory-Loss-link/Data_Fusion.html\" to get a description of the parameters.\n",
    "# Please refer to the Documentation at \"https://cheer-hub.github.io/Inventory-Loss-link/Directory.html\" that describes the Directory and how different outputs are stored\n",
    "Loss.Loss_estimate(cwd_haz='TC_Wise',cwd_inv='NC_Inventory_v1_AI_Imputed',zone='leaphi_zones_20230920',zone_id='i_lh740')"
   ]
  }
 ],
 "metadata": {
  "kernelspec": {
   "display_name": "globalenv",
   "language": "python",
   "name": "python3"
  },
  "language_info": {
   "codemirror_mode": {
    "name": "ipython",
    "version": 3
   },
   "file_extension": ".py",
   "mimetype": "text/x-python",
   "name": "python",
   "nbconvert_exporter": "python",
   "pygments_lexer": "ipython3",
   "version": "3.13.0"
  }
 },
 "nbformat": 4,
 "nbformat_minor": 5
}
