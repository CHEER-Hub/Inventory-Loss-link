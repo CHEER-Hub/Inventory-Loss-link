{
 "cells": [
  {
   "cell_type": "code",
   "execution_count": 3,
   "id": "b2b562c9",
   "metadata": {},
   "outputs": [],
   "source": [
    "import os\n",
    "os.chdir('C:/Users/solei/Documents/Loss_Run/')\n",
    "from Inv_Loss_Link import Inventory_Loss"
   ]
  },
  {
   "cell_type": "code",
   "execution_count": 5,
   "id": "91f125c1",
   "metadata": {},
   "outputs": [
    {
     "name": "stdout",
     "output_type": "stream",
     "text": [
      "Updated inventory (filtered for archetypes and updated with Z values) stored at:\t C:/Users/solei/Documents/Loss_Run/Intermediate_outputs\\NC_Inventory_v1_AI_Imputed_Z.parquet\n"
     ]
    },
    {
     "data": {
      "application/vnd.jupyter.widget-view+json": {
       "model_id": "f7a34f40bc5346fcbfbc9d7e3653e214",
       "version_major": 2,
       "version_minor": 0
      },
      "text/plain": [
       "Hazard instances::   0%|          | 0/3 [00:00<?, ?it/s]"
      ]
     },
     "metadata": {},
     "output_type": "display_data"
    },
    {
     "data": {
      "application/vnd.jupyter.widget-view+json": {
       "model_id": "22dbfef781994fc2ac491ba40dd3afb0",
       "version_major": 2,
       "version_minor": 0
      },
      "text/plain": [
       "Hazard instances::   0%|          | 0/3 [00:00<?, ?it/s]"
      ]
     },
     "metadata": {},
     "output_type": "display_data"
    },
    {
     "name": "stdout",
     "output_type": "stream",
     "text": [
      "Inventory-level are stored at:\t C:/Users/solei/Documents/Loss_Run/Loss_estimates\\TC_Wise\\Inventory\\NC_Inventory_v1_AI_Imputed\n",
      "zone-level are stored at:\t C:/Users/solei/Documents/Loss_Run/Loss_estimates\\TC_Wise\\Inventory\\NC_Inventory_v1_AI_Imputed\\Zones\\leaphi_zones_20230920\n"
     ]
    }
   ],
   "source": [
    "cwd='C:/Users/solei/Documents/Loss_Run/'\n",
    "# First, instantiate the loss modeul and download sample files if needed\n",
    "Loss=Inventory_Loss(cwd,Download=False)\n",
    "\n",
    "# Then, establish the dictionary to map structure configurations to a trivial parameter \"Z\",\n",
    "# and then malke a dictionary map Z to global damage ratio given a wind speed and flood depth.\n",
    "#Loss.Define_new_table(cwd_look='ProbDS_cwfd_MaxIter3000.pkl')\n",
    "\n",
    "# Add a column to the inventory that contains a \"Z\" value for each row to identify losses in next parts\n",
    "Loss.Inv_Z_Transformation(cwd_inv='NC_Inventory_v1_AI_Imputed',blgtype_col=['bldgtype',['W']],roof_col=['roof_shape_1',['Cross Gable', 'Complex Gable','Gable'],['Hip','Cross Hip']],story_col=['Story_AI',[1],[2]],garage_col=['Garage',[0],[1]],res_col=['PRIM_OCC',['Single Family Dwelling']],year_col=['med_yr_blt'],Coast_D_col=['Coast_D (miles)',[1]],val_struct_col=['val_struct'],Mode='')\n",
    "\n",
    "# Match hazard intensities at building level\n",
    "Loss.Hazard_Inv_map(cwd_inv='NC_Inventory_v1_AI_Imputed',cwd_haz='TC_Wise',W_ind=3,I_ind=4,Tr_F=39.3701,Tr_W=2.23694,Average_Mode='Inverse_d4',Mode='')\n",
    "\n",
    "# Estimate losses\n",
    "Loss.Loss_estimate(cwd_haz='TC_Wise',cwd_inv='NC_Inventory_v1_AI_Imputed',zone='leaphi_zones_20230920')"
   ]
  },
  {
   "cell_type": "code",
   "execution_count": 7,
   "id": "eb59aa40",
   "metadata": {},
   "outputs": [],
   "source": [
    "self=Loss \n",
    "cwd_haz='TC_Wise'\n",
    "cwd_inv='NC_Inventory_v1_AI_Imputed'\n",
    "zone='leaphi_zones_20230920'"
   ]
  },
  {
   "cell_type": "code",
   "execution_count": 10,
   "id": "53d713c6",
   "metadata": {},
   "outputs": [
    {
     "data": {
      "application/vnd.jupyter.widget-view+json": {
       "model_id": "8e979dd7de9d4517a02a1044bf910fd9",
       "version_major": 2,
       "version_minor": 0
      },
      "text/plain": [
       "Hazard instances::   0%|          | 0/1 [00:00<?, ?it/s]"
      ]
     },
     "metadata": {},
     "output_type": "display_data"
    },
    {
     "ename": "PermissionError",
     "evalue": "[Errno 13] Permission denied: 'C:/Users/solei/Documents/Loss_Run/User_Output\\\\TC_Wise\\\\Inventory\\\\NC_Inventory_v1_AI_Imputed\\\\Loss_DF.csv'",
     "output_type": "error",
     "traceback": [
      "\u001b[31m---------------------------------------------------------------------------\u001b[39m",
      "\u001b[31mPermissionError\u001b[39m                           Traceback (most recent call last)",
      "\u001b[36mCell\u001b[39m\u001b[36m \u001b[39m\u001b[32mIn[10]\u001b[39m\u001b[32m, line 93\u001b[39m\n\u001b[32m     91\u001b[39m \u001b[38;5;66;03m#Also save it as .csv, for users\u001b[39;00m\n\u001b[32m     92\u001b[39m Info=pd.DataFrame({\u001b[33m'\u001b[39m\u001b[33mHazard\u001b[39m\u001b[33m'\u001b[39m:[\u001b[33m'\u001b[39m\u001b[33mTotal Buildings:\u001b[39m\u001b[33m'\u001b[39m],\u001b[33m'\u001b[39m\u001b[33mLoss (B$)\u001b[39m\u001b[33m'\u001b[39m:\u001b[38;5;28mlen\u001b[39m(W_F)})\n\u001b[32m---> \u001b[39m\u001b[32m93\u001b[39m \u001b[43mpd\u001b[49m\u001b[43m.\u001b[49m\u001b[43mconcat\u001b[49m\u001b[43m(\u001b[49m\u001b[43m(\u001b[49m\u001b[43mLoss_df\u001b[49m\u001b[43m,\u001b[49m\u001b[43mInfo\u001b[49m\u001b[43m)\u001b[49m\u001b[43m)\u001b[49m\u001b[43m.\u001b[49m\u001b[43mto_csv\u001b[49m\u001b[43m(\u001b[49m\u001b[43mos\u001b[49m\u001b[43m.\u001b[49m\u001b[43mpath\u001b[49m\u001b[43m.\u001b[49m\u001b[43mjoin\u001b[49m\u001b[43m(\u001b[49m\u001b[38;5;28;43mself\u001b[39;49m\u001b[43m.\u001b[49m\u001b[43mcwd\u001b[49m\u001b[43m,\u001b[49m\u001b[33;43m'\u001b[39;49m\u001b[33;43mUser_Output\u001b[39;49m\u001b[33;43m'\u001b[39;49m\u001b[43m,\u001b[49m\u001b[43mcwd_haz\u001b[49m\u001b[43m,\u001b[49m\u001b[33;43m'\u001b[39;49m\u001b[33;43mInventory\u001b[39;49m\u001b[33;43m'\u001b[39;49m\u001b[43m,\u001b[49m\u001b[43mcwd_inv\u001b[49m\u001b[43m,\u001b[49m\u001b[33;43m'\u001b[39;49m\u001b[33;43mLoss_DF.csv\u001b[39;49m\u001b[33;43m'\u001b[39;49m\u001b[43m)\u001b[49m\u001b[43m)\u001b[49m\n\u001b[32m     95\u001b[39m \u001b[38;5;66;03m#Sort zones files, if any for users as csv\u001b[39;00m\n\u001b[32m     96\u001b[39m \u001b[38;5;28;01mif\u001b[39;00m zone_computation:\n",
      "\u001b[36mFile \u001b[39m\u001b[32mc:\\Users\\solei\\Documents\\Binv\\Binv-main\\venv2\\Lib\\site-packages\\pandas\\util\\_decorators.py:333\u001b[39m, in \u001b[36mdeprecate_nonkeyword_arguments.<locals>.decorate.<locals>.wrapper\u001b[39m\u001b[34m(*args, **kwargs)\u001b[39m\n\u001b[32m    327\u001b[39m \u001b[38;5;28;01mif\u001b[39;00m \u001b[38;5;28mlen\u001b[39m(args) > num_allow_args:\n\u001b[32m    328\u001b[39m     warnings.warn(\n\u001b[32m    329\u001b[39m         msg.format(arguments=_format_argument_list(allow_args)),\n\u001b[32m    330\u001b[39m         \u001b[38;5;167;01mFutureWarning\u001b[39;00m,\n\u001b[32m    331\u001b[39m         stacklevel=find_stack_level(),\n\u001b[32m    332\u001b[39m     )\n\u001b[32m--> \u001b[39m\u001b[32m333\u001b[39m \u001b[38;5;28;01mreturn\u001b[39;00m \u001b[43mfunc\u001b[49m\u001b[43m(\u001b[49m\u001b[43m*\u001b[49m\u001b[43margs\u001b[49m\u001b[43m,\u001b[49m\u001b[43m \u001b[49m\u001b[43m*\u001b[49m\u001b[43m*\u001b[49m\u001b[43mkwargs\u001b[49m\u001b[43m)\u001b[49m\n",
      "\u001b[36mFile \u001b[39m\u001b[32mc:\\Users\\solei\\Documents\\Binv\\Binv-main\\venv2\\Lib\\site-packages\\pandas\\core\\generic.py:3986\u001b[39m, in \u001b[36mNDFrame.to_csv\u001b[39m\u001b[34m(self, path_or_buf, sep, na_rep, float_format, columns, header, index, index_label, mode, encoding, compression, quoting, quotechar, lineterminator, chunksize, date_format, doublequote, escapechar, decimal, errors, storage_options)\u001b[39m\n\u001b[32m   3975\u001b[39m df = \u001b[38;5;28mself\u001b[39m \u001b[38;5;28;01mif\u001b[39;00m \u001b[38;5;28misinstance\u001b[39m(\u001b[38;5;28mself\u001b[39m, ABCDataFrame) \u001b[38;5;28;01melse\u001b[39;00m \u001b[38;5;28mself\u001b[39m.to_frame()\n\u001b[32m   3977\u001b[39m formatter = DataFrameFormatter(\n\u001b[32m   3978\u001b[39m     frame=df,\n\u001b[32m   3979\u001b[39m     header=header,\n\u001b[32m   (...)\u001b[39m\u001b[32m   3983\u001b[39m     decimal=decimal,\n\u001b[32m   3984\u001b[39m )\n\u001b[32m-> \u001b[39m\u001b[32m3986\u001b[39m \u001b[38;5;28;01mreturn\u001b[39;00m \u001b[43mDataFrameRenderer\u001b[49m\u001b[43m(\u001b[49m\u001b[43mformatter\u001b[49m\u001b[43m)\u001b[49m\u001b[43m.\u001b[49m\u001b[43mto_csv\u001b[49m\u001b[43m(\u001b[49m\n\u001b[32m   3987\u001b[39m \u001b[43m    \u001b[49m\u001b[43mpath_or_buf\u001b[49m\u001b[43m,\u001b[49m\n\u001b[32m   3988\u001b[39m \u001b[43m    \u001b[49m\u001b[43mlineterminator\u001b[49m\u001b[43m=\u001b[49m\u001b[43mlineterminator\u001b[49m\u001b[43m,\u001b[49m\n\u001b[32m   3989\u001b[39m \u001b[43m    \u001b[49m\u001b[43msep\u001b[49m\u001b[43m=\u001b[49m\u001b[43msep\u001b[49m\u001b[43m,\u001b[49m\n\u001b[32m   3990\u001b[39m \u001b[43m    \u001b[49m\u001b[43mencoding\u001b[49m\u001b[43m=\u001b[49m\u001b[43mencoding\u001b[49m\u001b[43m,\u001b[49m\n\u001b[32m   3991\u001b[39m \u001b[43m    \u001b[49m\u001b[43merrors\u001b[49m\u001b[43m=\u001b[49m\u001b[43merrors\u001b[49m\u001b[43m,\u001b[49m\n\u001b[32m   3992\u001b[39m \u001b[43m    \u001b[49m\u001b[43mcompression\u001b[49m\u001b[43m=\u001b[49m\u001b[43mcompression\u001b[49m\u001b[43m,\u001b[49m\n\u001b[32m   3993\u001b[39m \u001b[43m    \u001b[49m\u001b[43mquoting\u001b[49m\u001b[43m=\u001b[49m\u001b[43mquoting\u001b[49m\u001b[43m,\u001b[49m\n\u001b[32m   3994\u001b[39m \u001b[43m    \u001b[49m\u001b[43mcolumns\u001b[49m\u001b[43m=\u001b[49m\u001b[43mcolumns\u001b[49m\u001b[43m,\u001b[49m\n\u001b[32m   3995\u001b[39m \u001b[43m    \u001b[49m\u001b[43mindex_label\u001b[49m\u001b[43m=\u001b[49m\u001b[43mindex_label\u001b[49m\u001b[43m,\u001b[49m\n\u001b[32m   3996\u001b[39m \u001b[43m    \u001b[49m\u001b[43mmode\u001b[49m\u001b[43m=\u001b[49m\u001b[43mmode\u001b[49m\u001b[43m,\u001b[49m\n\u001b[32m   3997\u001b[39m \u001b[43m    \u001b[49m\u001b[43mchunksize\u001b[49m\u001b[43m=\u001b[49m\u001b[43mchunksize\u001b[49m\u001b[43m,\u001b[49m\n\u001b[32m   3998\u001b[39m \u001b[43m    \u001b[49m\u001b[43mquotechar\u001b[49m\u001b[43m=\u001b[49m\u001b[43mquotechar\u001b[49m\u001b[43m,\u001b[49m\n\u001b[32m   3999\u001b[39m \u001b[43m    \u001b[49m\u001b[43mdate_format\u001b[49m\u001b[43m=\u001b[49m\u001b[43mdate_format\u001b[49m\u001b[43m,\u001b[49m\n\u001b[32m   4000\u001b[39m \u001b[43m    \u001b[49m\u001b[43mdoublequote\u001b[49m\u001b[43m=\u001b[49m\u001b[43mdoublequote\u001b[49m\u001b[43m,\u001b[49m\n\u001b[32m   4001\u001b[39m \u001b[43m    \u001b[49m\u001b[43mescapechar\u001b[49m\u001b[43m=\u001b[49m\u001b[43mescapechar\u001b[49m\u001b[43m,\u001b[49m\n\u001b[32m   4002\u001b[39m \u001b[43m    \u001b[49m\u001b[43mstorage_options\u001b[49m\u001b[43m=\u001b[49m\u001b[43mstorage_options\u001b[49m\u001b[43m,\u001b[49m\n\u001b[32m   4003\u001b[39m \u001b[43m\u001b[49m\u001b[43m)\u001b[49m\n",
      "\u001b[36mFile \u001b[39m\u001b[32mc:\\Users\\solei\\Documents\\Binv\\Binv-main\\venv2\\Lib\\site-packages\\pandas\\io\\formats\\format.py:1014\u001b[39m, in \u001b[36mDataFrameRenderer.to_csv\u001b[39m\u001b[34m(self, path_or_buf, encoding, sep, columns, index_label, mode, compression, quoting, quotechar, lineterminator, chunksize, date_format, doublequote, escapechar, errors, storage_options)\u001b[39m\n\u001b[32m    993\u001b[39m     created_buffer = \u001b[38;5;28;01mFalse\u001b[39;00m\n\u001b[32m    995\u001b[39m csv_formatter = CSVFormatter(\n\u001b[32m    996\u001b[39m     path_or_buf=path_or_buf,\n\u001b[32m    997\u001b[39m     lineterminator=lineterminator,\n\u001b[32m   (...)\u001b[39m\u001b[32m   1012\u001b[39m     formatter=\u001b[38;5;28mself\u001b[39m.fmt,\n\u001b[32m   1013\u001b[39m )\n\u001b[32m-> \u001b[39m\u001b[32m1014\u001b[39m \u001b[43mcsv_formatter\u001b[49m\u001b[43m.\u001b[49m\u001b[43msave\u001b[49m\u001b[43m(\u001b[49m\u001b[43m)\u001b[49m\n\u001b[32m   1016\u001b[39m \u001b[38;5;28;01mif\u001b[39;00m created_buffer:\n\u001b[32m   1017\u001b[39m     \u001b[38;5;28;01massert\u001b[39;00m \u001b[38;5;28misinstance\u001b[39m(path_or_buf, StringIO)\n",
      "\u001b[36mFile \u001b[39m\u001b[32mc:\\Users\\solei\\Documents\\Binv\\Binv-main\\venv2\\Lib\\site-packages\\pandas\\io\\formats\\csvs.py:251\u001b[39m, in \u001b[36mCSVFormatter.save\u001b[39m\u001b[34m(self)\u001b[39m\n\u001b[32m    247\u001b[39m \u001b[38;5;250m\u001b[39m\u001b[33;03m\"\"\"\u001b[39;00m\n\u001b[32m    248\u001b[39m \u001b[33;03mCreate the writer & save.\u001b[39;00m\n\u001b[32m    249\u001b[39m \u001b[33;03m\"\"\"\u001b[39;00m\n\u001b[32m    250\u001b[39m \u001b[38;5;66;03m# apply compression and byte/text conversion\u001b[39;00m\n\u001b[32m--> \u001b[39m\u001b[32m251\u001b[39m \u001b[38;5;28;01mwith\u001b[39;00m \u001b[43mget_handle\u001b[49m\u001b[43m(\u001b[49m\n\u001b[32m    252\u001b[39m \u001b[43m    \u001b[49m\u001b[38;5;28;43mself\u001b[39;49m\u001b[43m.\u001b[49m\u001b[43mfilepath_or_buffer\u001b[49m\u001b[43m,\u001b[49m\n\u001b[32m    253\u001b[39m \u001b[43m    \u001b[49m\u001b[38;5;28;43mself\u001b[39;49m\u001b[43m.\u001b[49m\u001b[43mmode\u001b[49m\u001b[43m,\u001b[49m\n\u001b[32m    254\u001b[39m \u001b[43m    \u001b[49m\u001b[43mencoding\u001b[49m\u001b[43m=\u001b[49m\u001b[38;5;28;43mself\u001b[39;49m\u001b[43m.\u001b[49m\u001b[43mencoding\u001b[49m\u001b[43m,\u001b[49m\n\u001b[32m    255\u001b[39m \u001b[43m    \u001b[49m\u001b[43merrors\u001b[49m\u001b[43m=\u001b[49m\u001b[38;5;28;43mself\u001b[39;49m\u001b[43m.\u001b[49m\u001b[43merrors\u001b[49m\u001b[43m,\u001b[49m\n\u001b[32m    256\u001b[39m \u001b[43m    \u001b[49m\u001b[43mcompression\u001b[49m\u001b[43m=\u001b[49m\u001b[38;5;28;43mself\u001b[39;49m\u001b[43m.\u001b[49m\u001b[43mcompression\u001b[49m\u001b[43m,\u001b[49m\n\u001b[32m    257\u001b[39m \u001b[43m    \u001b[49m\u001b[43mstorage_options\u001b[49m\u001b[43m=\u001b[49m\u001b[38;5;28;43mself\u001b[39;49m\u001b[43m.\u001b[49m\u001b[43mstorage_options\u001b[49m\u001b[43m,\u001b[49m\n\u001b[32m    258\u001b[39m \u001b[43m\u001b[49m\u001b[43m)\u001b[49m \u001b[38;5;28;01mas\u001b[39;00m handles:\n\u001b[32m    259\u001b[39m     \u001b[38;5;66;03m# Note: self.encoding is irrelevant here\u001b[39;00m\n\u001b[32m    260\u001b[39m     \u001b[38;5;28mself\u001b[39m.writer = csvlib.writer(\n\u001b[32m    261\u001b[39m         handles.handle,\n\u001b[32m    262\u001b[39m         lineterminator=\u001b[38;5;28mself\u001b[39m.lineterminator,\n\u001b[32m   (...)\u001b[39m\u001b[32m    267\u001b[39m         quotechar=\u001b[38;5;28mself\u001b[39m.quotechar,\n\u001b[32m    268\u001b[39m     )\n\u001b[32m    270\u001b[39m     \u001b[38;5;28mself\u001b[39m._save()\n",
      "\u001b[36mFile \u001b[39m\u001b[32mc:\\Users\\solei\\Documents\\Binv\\Binv-main\\venv2\\Lib\\site-packages\\pandas\\io\\common.py:873\u001b[39m, in \u001b[36mget_handle\u001b[39m\u001b[34m(path_or_buf, mode, encoding, compression, memory_map, is_text, errors, storage_options)\u001b[39m\n\u001b[32m    868\u001b[39m \u001b[38;5;28;01melif\u001b[39;00m \u001b[38;5;28misinstance\u001b[39m(handle, \u001b[38;5;28mstr\u001b[39m):\n\u001b[32m    869\u001b[39m     \u001b[38;5;66;03m# Check whether the filename is to be opened in binary mode.\u001b[39;00m\n\u001b[32m    870\u001b[39m     \u001b[38;5;66;03m# Binary mode does not support 'encoding' and 'newline'.\u001b[39;00m\n\u001b[32m    871\u001b[39m     \u001b[38;5;28;01mif\u001b[39;00m ioargs.encoding \u001b[38;5;129;01mand\u001b[39;00m \u001b[33m\"\u001b[39m\u001b[33mb\u001b[39m\u001b[33m\"\u001b[39m \u001b[38;5;129;01mnot\u001b[39;00m \u001b[38;5;129;01min\u001b[39;00m ioargs.mode:\n\u001b[32m    872\u001b[39m         \u001b[38;5;66;03m# Encoding\u001b[39;00m\n\u001b[32m--> \u001b[39m\u001b[32m873\u001b[39m         handle = \u001b[38;5;28;43mopen\u001b[39;49m\u001b[43m(\u001b[49m\n\u001b[32m    874\u001b[39m \u001b[43m            \u001b[49m\u001b[43mhandle\u001b[49m\u001b[43m,\u001b[49m\n\u001b[32m    875\u001b[39m \u001b[43m            \u001b[49m\u001b[43mioargs\u001b[49m\u001b[43m.\u001b[49m\u001b[43mmode\u001b[49m\u001b[43m,\u001b[49m\n\u001b[32m    876\u001b[39m \u001b[43m            \u001b[49m\u001b[43mencoding\u001b[49m\u001b[43m=\u001b[49m\u001b[43mioargs\u001b[49m\u001b[43m.\u001b[49m\u001b[43mencoding\u001b[49m\u001b[43m,\u001b[49m\n\u001b[32m    877\u001b[39m \u001b[43m            \u001b[49m\u001b[43merrors\u001b[49m\u001b[43m=\u001b[49m\u001b[43merrors\u001b[49m\u001b[43m,\u001b[49m\n\u001b[32m    878\u001b[39m \u001b[43m            \u001b[49m\u001b[43mnewline\u001b[49m\u001b[43m=\u001b[49m\u001b[33;43m\"\u001b[39;49m\u001b[33;43m\"\u001b[39;49m\u001b[43m,\u001b[49m\n\u001b[32m    879\u001b[39m \u001b[43m        \u001b[49m\u001b[43m)\u001b[49m\n\u001b[32m    880\u001b[39m     \u001b[38;5;28;01melse\u001b[39;00m:\n\u001b[32m    881\u001b[39m         \u001b[38;5;66;03m# Binary mode\u001b[39;00m\n\u001b[32m    882\u001b[39m         handle = \u001b[38;5;28mopen\u001b[39m(handle, ioargs.mode)\n",
      "\u001b[31mPermissionError\u001b[39m: [Errno 13] Permission denied: 'C:/Users/solei/Documents/Loss_Run/User_Output\\\\TC_Wise\\\\Inventory\\\\NC_Inventory_v1_AI_Imputed\\\\Loss_DF.csv'"
     ]
    }
   ],
   "source": [
    "#def Loss_estimate(self,cwd_haz,cwd_inv,zone=''):\n",
    "Inv_dir=os.path.join(self.cwd,'Inv_Updated_Hazard',cwd_haz)\n",
    "L=os.listdir(Inv_dir)\n",
    "\n",
    "# Open the \n",
    "with open(os.path.join(self.cwd,'Intermediate_outputs','lookup_N.pkl'), 'rb') as f:\n",
    "    dic=pickle.load(f)\n",
    "\n",
    "#A list to store the Inventory damage summation in B$\n",
    "DT=[]\n",
    "#A list to keep the track of hazard incident names\n",
    "Name=[]\n",
    "\n",
    "# Open the sample Inventory to read values\n",
    "Inv_dir=os.path.join(self.cwd,'Inv_Updated_Hazard',cwd_haz)\n",
    "Inv=gpd.read_parquet(os.path.join(self.cwd+'Intermediate_outputs',cwd_haz+'_'+'Inv_'+cwd_inv+'.parquet'))\n",
    "\n",
    "# Build the required directories\n",
    "self.mk_dir(os.path.join(self.cwd,'Loss_estimates'))\n",
    "self.mk_dir(os.path.join(self.cwd,'Loss_estimates',cwd_haz))\n",
    "self.mk_dir(os.path.join(self.cwd,'Loss_estimates',cwd_haz,'Inventory'))\n",
    "self.mk_dir(os.path.join(self.cwd,'Loss_estimates',cwd_haz,'Inventory',cwd_inv.replace('.parquet','')))\n",
    "\n",
    "# Build the for user-friendly .csv files\n",
    "self.mk_dir(os.path.join(self.cwd,'User_Output'))\n",
    "self.mk_dir(os.path.join(self.cwd,'User_Output',cwd_haz))\n",
    "self.mk_dir(os.path.join(self.cwd,'User_Output',cwd_haz,'Inventory'))\n",
    "self.mk_dir(os.path.join(self.cwd,'User_Output',cwd_haz,'Inventory',cwd_inv.replace('.parquet','')))\n",
    "\n",
    "# If zone level is requested\n",
    "if len(zone)>0:\n",
    "    try:\n",
    "        try:\n",
    "            zones=gpd.read_parquet(os.path.join(self.cwd,'zones',zone+'.parquet'))\n",
    "            zone_computation=True\n",
    "        except:\n",
    "            zones=gpd.read_file(os.path.join(self.cwd,'zones',zone+'.shp'))\n",
    "            zone_computation=True\n",
    "    except:\n",
    "        print('The chosen zone does not exist')\n",
    "        zone_computation=False\n",
    "if zone_computation:\n",
    "    # Make directory to save\n",
    "    self.mk_dir(os.path.join(self.cwd,'Loss_estimates',cwd_haz,'Inventory',cwd_inv.replace('.parquet',''),'Zones'))\n",
    "    self.mk_dir(os.path.join(self.cwd,'Loss_estimates',cwd_haz,'Inventory',cwd_inv.replace('.parquet',''),'Zones',zone))\n",
    "    # For user firendly files\n",
    "    self.mk_dir(os.path.join(self.cwd,'User_Output',cwd_haz,'Inventory',cwd_inv.replace('.parquet',''),'Zones'))\n",
    "    self.mk_dir(os.path.join(self.cwd,'User_Output',cwd_haz,'Inventory',cwd_inv.replace('.parquet',''),'Zones',zone))\n",
    "\n",
    "for l in tqdm(L[1:2],desc='Hazard instances:'):\n",
    "    # Read the Wind and Flood depth, for the iventory, given a hazard scednario\n",
    "    W_F=pd.read_parquet(os.path.join(Inv_dir,l))#\n",
    "    #print(np.mean(W_F['Wind_Tr']))\n",
    "    W_F[['geometry','val_struct_col']]=Inv[['geometry','val_struct_col']]\n",
    "    W_F = gpd.GeoDataFrame(W_F, geometry='geometry')\n",
    "    W_F.set_crs(Inv.crs, inplace=True)\n",
    "    # Employ the Z-based lookup table to read global damage state (01-140% damage).\n",
    "    W_F['Damage_ratio']=W_F[['Wind_Tr','Flood_Tr','Z']].apply(lambda x: dic[x['Z']][int(x['Wind_Tr']-1),int(x['Flood_Tr']-1)],axis=1)\n",
    "    W_F['Loss(B$)']=W_F['Damage_ratio']*W_F['val_struct_col']\n",
    "    Name.append((l.replace('.parquet','')).replace('Inv_',''))\n",
    "    DT.append(np.sum(W_F['Loss(B$)']/1000000000))\n",
    "\n",
    "    W_F[['Damage_ratio','Loss(B$)']].to_parquet(os.path.join(self.cwd,'Loss_estimates',cwd_haz,'Inventory',cwd_inv.replace('.parquet',''),l))\n",
    "\n",
    "    if zone_computation:\n",
    "        zones.to_crs(\"EPSG:4326\", inplace=True)\n",
    "        zones = zones.reset_index(drop=True)\n",
    "        zones['zone_id'] = zones.index\n",
    "\n",
    "        # Spatial join: assign each point in Inv to a zone\n",
    "        W_F_centroids = gpd.GeoDataFrame(W_F, geometry='geometry',crs=Inv.crs)\n",
    "        W_F_centroids['geometry'] = Inv.geometry.centroid\n",
    "        joined = gpd.sjoin(W_F_centroids, zones[['zone_id', 'geometry']], predicate='within', how='left')\n",
    "\n",
    "        # Group by zone_id to compute sum of loss and count\n",
    "        agg = joined.groupby('zone_id').agg(\n",
    "            Z_sum=('Loss(B$)', 'sum'),\n",
    "            N_count=('Loss(B$)', 'count')\n",
    "        ).reindex(zones['zone_id'], fill_value=0)\n",
    "\n",
    "        # Extract results\n",
    "        zones['Loss(B$)'] = agg['Z_sum'].values\n",
    "        zones['N'] = agg['N_count'].values\n",
    "        \n",
    "        zones.to_parquet(os.path.join(self.cwd,'Loss_estimates',cwd_haz,'Inventory',cwd_inv,'Zones',zone,l))\n",
    "        zones[['zone_id','Loss(B$)']].to_csv(os.path.join(self.cwd,'User_Output',cwd_haz,'Inventory',cwd_inv.replace('.parquet',''),'Zones',zone,l.replace('.parquet','.csv')))\n",
    "        \n",
    "Loss_df=pd.DataFrame({'Hazard':Name,'Loss (B$)':DT})\n",
    "Loss_df.to_parquet(os.path.join(self.cwd,'Loss_estimates',cwd_haz,'Inventory',cwd_inv,'Loss_DF.parquet'))\n",
    "\n",
    "#Also save it as .csv, for users\n",
    "Info=pd.DataFrame({'Hazard':['Total Buildings:'],'Loss (B$)':len(W_F)})\n",
    "pd.concat((Loss_df,Info)).to_csv(os.path.join(self.cwd,'User_Output',cwd_haz,'Inventory',cwd_inv,'Loss_DF.csv'))\n",
    "\n",
    "#Sort zones files, if any for users as csv\n",
    "if zone_computation:\n",
    "    zones[['zone_id','N']].to_csv(os.path.join(self.cwd,'User_Output',cwd_haz,'Inventory',cwd_inv.replace('.parquet',''),'Zones',zone,'zones_id_N.csv'))\n",
    "    print('Inventory-level are stored at:\\t',os.path.join(self.cwd,'Loss_estimates',cwd_haz,'Inventory',cwd_inv.replace('.parquet','')))\n",
    "if zone_computation:\n",
    "    print('zone-level are stored at:\\t',os.path.join(self.cwd,'Loss_estimates',cwd_haz,'Inventory',cwd_inv,'Zones',zone.replace('.shp','')))"
   ]
  },
  {
   "cell_type": "code",
   "execution_count": 16,
   "id": "cae9976b",
   "metadata": {},
   "outputs": [
    {
     "data": {
      "text/html": [
       "<div>\n",
       "<style scoped>\n",
       "    .dataframe tbody tr th:only-of-type {\n",
       "        vertical-align: middle;\n",
       "    }\n",
       "\n",
       "    .dataframe tbody tr th {\n",
       "        vertical-align: top;\n",
       "    }\n",
       "\n",
       "    .dataframe thead th {\n",
       "        text-align: right;\n",
       "    }\n",
       "</style>\n",
       "<table border=\"1\" class=\"dataframe\">\n",
       "  <thead>\n",
       "    <tr style=\"text-align: right;\">\n",
       "      <th></th>\n",
       "      <th>Flood_Tr</th>\n",
       "      <th>Wind_Tr</th>\n",
       "      <th>Z</th>\n",
       "      <th>val_struct_col</th>\n",
       "    </tr>\n",
       "  </thead>\n",
       "  <tbody>\n",
       "    <tr>\n",
       "      <th>0</th>\n",
       "      <td>1.0</td>\n",
       "      <td>1.490281</td>\n",
       "      <td>4</td>\n",
       "      <td>338350</td>\n",
       "    </tr>\n",
       "    <tr>\n",
       "      <th>1</th>\n",
       "      <td>1.0</td>\n",
       "      <td>1.488571</td>\n",
       "      <td>16</td>\n",
       "      <td>138990</td>\n",
       "    </tr>\n",
       "    <tr>\n",
       "      <th>2</th>\n",
       "      <td>1.0</td>\n",
       "      <td>1.491028</td>\n",
       "      <td>28</td>\n",
       "      <td>342403</td>\n",
       "    </tr>\n",
       "    <tr>\n",
       "      <th>3</th>\n",
       "      <td>1.0</td>\n",
       "      <td>1.489799</td>\n",
       "      <td>4</td>\n",
       "      <td>260818</td>\n",
       "    </tr>\n",
       "    <tr>\n",
       "      <th>4</th>\n",
       "      <td>1.0</td>\n",
       "      <td>1.489794</td>\n",
       "      <td>28</td>\n",
       "      <td>131926</td>\n",
       "    </tr>\n",
       "    <tr>\n",
       "      <th>...</th>\n",
       "      <td>...</td>\n",
       "      <td>...</td>\n",
       "      <td>...</td>\n",
       "      <td>...</td>\n",
       "    </tr>\n",
       "    <tr>\n",
       "      <th>2104229</th>\n",
       "      <td>1.0</td>\n",
       "      <td>1.209812</td>\n",
       "      <td>4</td>\n",
       "      <td>142036</td>\n",
       "    </tr>\n",
       "    <tr>\n",
       "      <th>2104230</th>\n",
       "      <td>1.0</td>\n",
       "      <td>1.209582</td>\n",
       "      <td>16</td>\n",
       "      <td>126076</td>\n",
       "    </tr>\n",
       "    <tr>\n",
       "      <th>2104231</th>\n",
       "      <td>1.0</td>\n",
       "      <td>1.209913</td>\n",
       "      <td>4</td>\n",
       "      <td>123893</td>\n",
       "    </tr>\n",
       "    <tr>\n",
       "      <th>2104232</th>\n",
       "      <td>1.0</td>\n",
       "      <td>1.209566</td>\n",
       "      <td>4</td>\n",
       "      <td>116177</td>\n",
       "    </tr>\n",
       "    <tr>\n",
       "      <th>2104233</th>\n",
       "      <td>1.0</td>\n",
       "      <td>1.209168</td>\n",
       "      <td>16</td>\n",
       "      <td>116177</td>\n",
       "    </tr>\n",
       "  </tbody>\n",
       "</table>\n",
       "<p>2104234 rows × 4 columns</p>\n",
       "</div>"
      ],
      "text/plain": [
       "         Flood_Tr   Wind_Tr   Z  val_struct_col\n",
       "0             1.0  1.490281   4          338350\n",
       "1             1.0  1.488571  16          138990\n",
       "2             1.0  1.491028  28          342403\n",
       "3             1.0  1.489799   4          260818\n",
       "4             1.0  1.489794  28          131926\n",
       "...           ...       ...  ..             ...\n",
       "2104229       1.0  1.209812   4          142036\n",
       "2104230       1.0  1.209582  16          126076\n",
       "2104231       1.0  1.209913   4          123893\n",
       "2104232       1.0  1.209566   4          116177\n",
       "2104233       1.0  1.209168  16          116177\n",
       "\n",
       "[2104234 rows x 4 columns]"
      ]
     },
     "execution_count": 16,
     "metadata": {},
     "output_type": "execute_result"
    }
   ],
   "source": [
    "pd.read_parquet(os.path.join(Inv_dir,L[2]))"
   ]
  },
  {
   "cell_type": "code",
   "execution_count": 15,
   "id": "01632b91",
   "metadata": {},
   "outputs": [
    {
     "data": {
      "text/html": [
       "<div>\n",
       "<style scoped>\n",
       "    .dataframe tbody tr th:only-of-type {\n",
       "        vertical-align: middle;\n",
       "    }\n",
       "\n",
       "    .dataframe tbody tr th {\n",
       "        vertical-align: top;\n",
       "    }\n",
       "\n",
       "    .dataframe thead th {\n",
       "        text-align: right;\n",
       "    }\n",
       "</style>\n",
       "<table border=\"1\" class=\"dataframe\">\n",
       "  <thead>\n",
       "    <tr style=\"text-align: right;\">\n",
       "      <th></th>\n",
       "      <th>Flood_Tr</th>\n",
       "      <th>Wind_Tr</th>\n",
       "      <th>Z</th>\n",
       "      <th>val_struct_col</th>\n",
       "    </tr>\n",
       "  </thead>\n",
       "  <tbody>\n",
       "    <tr>\n",
       "      <th>0</th>\n",
       "      <td>1.0</td>\n",
       "      <td>1.015237</td>\n",
       "      <td>4</td>\n",
       "      <td>338350</td>\n",
       "    </tr>\n",
       "    <tr>\n",
       "      <th>1</th>\n",
       "      <td>1.0</td>\n",
       "      <td>1.014138</td>\n",
       "      <td>16</td>\n",
       "      <td>138990</td>\n",
       "    </tr>\n",
       "    <tr>\n",
       "      <th>2</th>\n",
       "      <td>1.0</td>\n",
       "      <td>1.015393</td>\n",
       "      <td>28</td>\n",
       "      <td>342403</td>\n",
       "    </tr>\n",
       "    <tr>\n",
       "      <th>3</th>\n",
       "      <td>1.0</td>\n",
       "      <td>1.014545</td>\n",
       "      <td>4</td>\n",
       "      <td>260818</td>\n",
       "    </tr>\n",
       "    <tr>\n",
       "      <th>4</th>\n",
       "      <td>1.0</td>\n",
       "      <td>1.014549</td>\n",
       "      <td>28</td>\n",
       "      <td>131926</td>\n",
       "    </tr>\n",
       "    <tr>\n",
       "      <th>...</th>\n",
       "      <td>...</td>\n",
       "      <td>...</td>\n",
       "      <td>...</td>\n",
       "      <td>...</td>\n",
       "    </tr>\n",
       "    <tr>\n",
       "      <th>2104229</th>\n",
       "      <td>1.0</td>\n",
       "      <td>1.019933</td>\n",
       "      <td>4</td>\n",
       "      <td>142036</td>\n",
       "    </tr>\n",
       "    <tr>\n",
       "      <th>2104230</th>\n",
       "      <td>1.0</td>\n",
       "      <td>1.019913</td>\n",
       "      <td>16</td>\n",
       "      <td>126076</td>\n",
       "    </tr>\n",
       "    <tr>\n",
       "      <th>2104231</th>\n",
       "      <td>1.0</td>\n",
       "      <td>1.019901</td>\n",
       "      <td>4</td>\n",
       "      <td>123893</td>\n",
       "    </tr>\n",
       "    <tr>\n",
       "      <th>2104232</th>\n",
       "      <td>1.0</td>\n",
       "      <td>1.019911</td>\n",
       "      <td>4</td>\n",
       "      <td>116177</td>\n",
       "    </tr>\n",
       "    <tr>\n",
       "      <th>2104233</th>\n",
       "      <td>1.0</td>\n",
       "      <td>1.019877</td>\n",
       "      <td>16</td>\n",
       "      <td>116177</td>\n",
       "    </tr>\n",
       "  </tbody>\n",
       "</table>\n",
       "<p>2104234 rows × 4 columns</p>\n",
       "</div>"
      ],
      "text/plain": [
       "         Flood_Tr   Wind_Tr   Z  val_struct_col\n",
       "0             1.0  1.015237   4          338350\n",
       "1             1.0  1.014138  16          138990\n",
       "2             1.0  1.015393  28          342403\n",
       "3             1.0  1.014545   4          260818\n",
       "4             1.0  1.014549  28          131926\n",
       "...           ...       ...  ..             ...\n",
       "2104229       1.0  1.019933   4          142036\n",
       "2104230       1.0  1.019913  16          126076\n",
       "2104231       1.0  1.019901   4          123893\n",
       "2104232       1.0  1.019911   4          116177\n",
       "2104233       1.0  1.019877  16          116177\n",
       "\n",
       "[2104234 rows x 4 columns]"
      ]
     },
     "execution_count": 15,
     "metadata": {},
     "output_type": "execute_result"
    }
   ],
   "source": [
    "pd.read_parquet(os.path.join(Inv_dir,L[0]))"
   ]
  },
  {
   "cell_type": "code",
   "execution_count": 9,
   "id": "54f2a3a1",
   "metadata": {},
   "outputs": [],
   "source": [
    "import geopandas as gpd \n",
    "from itertools import product\n",
    "import pickle \n",
    "import pandas as pd\n",
    "from shapely.geometry import MultiPoint\n",
    "import numpy as np\n",
    "import geopandas as gpd\n",
    "import pandas as pd\n",
    "import numpy as np\n",
    "from scipy.spatial import cKDTree\n",
    "import os \n",
    "import tqdm\n",
    "from tqdm.notebook import tqdm\n",
    "import warnings\n",
    "import requests\n",
    "import zipfile\n",
    "import io\n",
    "import os"
   ]
  },
  {
   "cell_type": "code",
   "execution_count": 7,
   "id": "e9d1d530",
   "metadata": {},
   "outputs": [
    {
     "ename": "FileExistsError",
     "evalue": "[WinError 183] Cannot create a file when that file already exists: 'C:/Users/solei/Documents/Loss_Run/Loss_estimates'",
     "output_type": "error",
     "traceback": [
      "\u001b[31m---------------------------------------------------------------------------\u001b[39m",
      "\u001b[31mFileExistsError\u001b[39m                           Traceback (most recent call last)",
      "\u001b[36mCell\u001b[39m\u001b[36m \u001b[39m\u001b[32mIn[7]\u001b[39m\u001b[32m, line 2\u001b[39m\n\u001b[32m      1\u001b[39m \u001b[38;5;28mself\u001b[39m=Loss\n\u001b[32m----> \u001b[39m\u001b[32m2\u001b[39m \u001b[43mos\u001b[49m\u001b[43m.\u001b[49m\u001b[43mmkdir\u001b[49m\u001b[43m(\u001b[49m\u001b[43mos\u001b[49m\u001b[43m.\u001b[49m\u001b[43mpath\u001b[49m\u001b[43m.\u001b[49m\u001b[43mjoin\u001b[49m\u001b[43m(\u001b[49m\u001b[38;5;28;43mself\u001b[39;49m\u001b[43m.\u001b[49m\u001b[43mcwd\u001b[49m\u001b[43m,\u001b[49m\u001b[33;43m'\u001b[39;49m\u001b[33;43mLoss_estimates\u001b[39;49m\u001b[33;43m'\u001b[39;49m\u001b[43m)\u001b[49m\u001b[43m)\u001b[49m\n\u001b[32m      3\u001b[39m os.path.join(\u001b[38;5;28mself\u001b[39m.cwd,\u001b[33m'\u001b[39m\u001b[33mLoss_estimates\u001b[39m\u001b[33m'\u001b[39m)\n",
      "\u001b[31mFileExistsError\u001b[39m: [WinError 183] Cannot create a file when that file already exists: 'C:/Users/solei/Documents/Loss_Run/Loss_estimates'"
     ]
    }
   ],
   "source": [
    "self=Loss\n",
    "os.mkdir(os.path.join(self.cwd,'Loss_estimates'))\n",
    "os.path.join(self.cwd,'Loss_estimates')"
   ]
  },
  {
   "cell_type": "code",
   "execution_count": 9,
   "id": "911f422a",
   "metadata": {},
   "outputs": [],
   "source": [
    "import geopandas as gpd \n",
    "ff=gpd.read_parquet(os.path.join(cwd,'Test','Hazard_match_sample.parquet'))\n",
    "ff['val_struct_col']=0\n",
    "ff.to_parquet(os.path.join(cwd,'Test','Hazard_match_sample.parquet'))"
   ]
  },
  {
   "cell_type": "code",
   "execution_count": 2,
   "id": "4b61079b",
   "metadata": {},
   "outputs": [],
   "source": [
    "\n",
    "import time\n",
    "time0=time.time() \n",
    "Inv=gpd.read_parquet('C:/Users/solei/Documents/Rasters/K3A1.parquet')\n"
   ]
  },
  {
   "cell_type": "code",
   "execution_count": 3,
   "id": "f34332cb",
   "metadata": {},
   "outputs": [],
   "source": [
    "import pickle\n",
    "\n",
    "# Replace 'your_file.pkl' with your actual file path\n",
    "with open('./ProbDS_cwfd_MaxIter3000.pkl', 'rb') as file:\n",
    "    data = pickle.load(file)"
   ]
  },
  {
   "cell_type": "code",
   "execution_count": 4,
   "id": "803173b4",
   "metadata": {},
   "outputs": [],
   "source": [
    "import numpy as np \n",
    "C=np.load('C:/Users/solei/Documents/Rasters/C1A.npy')"
   ]
  },
  {
   "cell_type": "code",
   "execution_count": 5,
   "id": "5210c586",
   "metadata": {},
   "outputs": [],
   "source": [
    "nn=40"
   ]
  },
  {
   "cell_type": "code",
   "execution_count": 6,
   "id": "1d1cd971",
   "metadata": {},
   "outputs": [],
   "source": [
    "topn_values = np.partition(C, -nn, axis=1)[:, -nn:][:,::-1]\n",
    "top3_idx = np.argpartition(C, -nn, axis=1)[:, -nn:]+1"
   ]
  },
  {
   "cell_type": "code",
   "execution_count": 7,
   "id": "0c034b0f",
   "metadata": {},
   "outputs": [],
   "source": [
    "if nn==1:\n",
    "    topn_values=topn_values*0+1"
   ]
  },
  {
   "cell_type": "code",
   "execution_count": 8,
   "id": "06c0a616",
   "metadata": {},
   "outputs": [],
   "source": [
    "Inv['ID']=np.arange(0,len(Inv),1)\n",
    "values = np.array([\n",
    "    0.000, 0.004, 0.008, 0.012, 0.016, 0.020, 0.024, 0.028, 0.032, 0.036,\n",
    "    0.040, 0.060, 0.080, 0.100, 0.120, 0.140, 0.160, 0.180, 0.200, 0.220,\n",
    "    0.240, 0.280, 0.320, 0.360, 0.400, 0.440, 0.480, 0.520, 0.560, 0.600,\n",
    "    0.640, 0.680, 0.720, 0.760, 0.800, 0.840, 0.880, 0.920, 0.960, 1.000,\n",
    "    1.040, 1.080, 1.120, 1.160, 1.200, 1.240, 1.280, 1.320, 1.360, 1.400\n",
    "])"
   ]
  },
  {
   "cell_type": "code",
   "execution_count": 9,
   "id": "0f22d288",
   "metadata": {},
   "outputs": [
    {
     "data": {
      "text/plain": [
       "array([2., 2., 2., ..., 2., 2., 2.], shape=(2104234,))"
      ]
     },
     "execution_count": 9,
     "metadata": {},
     "output_type": "execute_result"
    }
   ],
   "source": [
    "np.ceil(Inv[\"MWS_OT\"].values)"
   ]
  },
  {
   "cell_type": "code",
   "execution_count": 12,
   "id": "71684116",
   "metadata": {},
   "outputs": [],
   "source": [
    "# Extract columns\n",
    "m_array = Inv[\"m\"].values\n",
    "id_array = Inv[\"ID\"].values\n",
    "\n",
    "mws_ot = Inv[\"MWS_OT\"].values\n",
    "max_in = Inv[\"Max_In\"].values\n",
    "mws_otu = np.ceil(Inv[\"MWS_OT\"].values).astype(int)\n",
    "max_inu = np.ceil(Inv[\"Max_In\"].values).astype(int)\n",
    "mws_otl = np.floor(Inv[\"MWS_OT\"].values).astype(int)\n",
    "max_inl = np.floor(Inv[\"Max_In\"].values).astype(int)\n",
    "\n",
    "l=1\n",
    "\n",
    "Arr=np.zeros((nn,len(Inv),50))\n",
    "# For each of the 3 top indices\n",
    "for n in range(top3_idx.shape[1]):\n",
    "    Inv[str(n)]=0\n",
    "    col_n = top3_idx[id_array, n]             # shape (num_rows,)\n",
    "    keys_n = list(zip(m_array, col_n))        # list of (m, col)\n",
    "    if l==0:\n",
    "        # Get corresponding data values using vectorized access\n",
    "        values_n = np.array([\n",
    "            data[k][i, j] for k, i, j in zip(keys_n, mws_ot.astype(int), max_in.astype(int))\n",
    "        ])\n",
    "    else:\n",
    "        values_u = np.array([\n",
    "            data[k][i, j] for k, i, j in zip(keys_n, mws_otu, max_inu)\n",
    "        ]) \n",
    "\n",
    "        values_l = np.array([\n",
    "            data[k][i, j] for k, i, j in zip(keys_n, mws_otl, max_inl)\n",
    "        ])  \n",
    "\n",
    "        values_n=values_u * (mws_otu-mws_ot)[:, np.newaxis] +values_l * (mws_ot-mws_otl)[:, np.newaxis] \n",
    "\n",
    "    Arr[n,:,:] = values_n\n"
   ]
  },
  {
   "cell_type": "code",
   "execution_count": 11,
   "id": "f53e27e0",
   "metadata": {},
   "outputs": [
    {
     "name": "stdout",
     "output_type": "stream",
     "text": [
      "17.25831129617365\n",
      "86.68724536895752\n"
     ]
    }
   ],
   "source": [
    "result = np.tensordot(Arr, values, axes=([2], [0])).reshape((len(Inv),nn))  # shape (4, 5)\n",
    "\n",
    "Inv['DS']= np.sum(result*topn_values,axis=1)\n",
    "\n",
    "print(np.sum(Inv.DS*Inv['val_struct'])/1000000000)\n",
    "print(time.time()-time0)"
   ]
  },
  {
   "cell_type": "code",
   "execution_count": null,
   "id": "23023810",
   "metadata": {},
   "outputs": [
    {
     "data": {
      "text/plain": [
       "(2104234, 1)"
      ]
     },
     "execution_count": 119,
     "metadata": {},
     "output_type": "execute_result"
    }
   ],
   "source": [
    "topn_values.shape"
   ]
  },
  {
   "cell_type": "code",
   "execution_count": null,
   "id": "08721b30",
   "metadata": {},
   "outputs": [
    {
     "ename": "ValueError",
     "evalue": "shapes (2104234,1,1) and (50,) not aligned: 1 (dim 2) != 50 (dim 0)",
     "output_type": "error",
     "traceback": [
      "\u001b[31m---------------------------------------------------------------------------\u001b[39m",
      "\u001b[31mValueError\u001b[39m                                Traceback (most recent call last)",
      "\u001b[36mCell\u001b[39m\u001b[36m \u001b[39m\u001b[32mIn[120]\u001b[39m\u001b[32m, line 6\u001b[39m\n\u001b[32m      4\u001b[39m     stacked=stacked.reshape((-\u001b[32m1\u001b[39m,\u001b[32m1\u001b[39m)).shape\n\u001b[32m      5\u001b[39m \u001b[38;5;66;03m# Multiply with values (shape: (k,))\u001b[39;00m\n\u001b[32m----> \u001b[39m\u001b[32m6\u001b[39m dot_products = \u001b[43mnp\u001b[49m\u001b[43m.\u001b[49m\u001b[43mdot\u001b[49m\u001b[43m(\u001b[49m\u001b[43mstacked\u001b[49m\u001b[43m,\u001b[49m\u001b[43m \u001b[49m\u001b[43mvalues\u001b[49m\u001b[43m)\u001b[49m  \u001b[38;5;66;03m# shape: (num_rows, nn)\u001b[39;00m\n\u001b[32m      8\u001b[39m \u001b[38;5;66;03m# Weight by topn_values (shape: (num_rows, nn))\u001b[39;00m\n\u001b[32m      9\u001b[39m Inv[\u001b[33m'\u001b[39m\u001b[33mDS\u001b[39m\u001b[33m'\u001b[39m] = np.sum(dot_products * topn_values, axis=\u001b[32m1\u001b[39m)\n",
      "\u001b[31mValueError\u001b[39m: shapes (2104234,1,1) and (50,) not aligned: 1 (dim 2) != 50 (dim 0)"
     ]
    }
   ],
   "source": [
    "# Stack all Inv[str(n)] columns into shape (num_rows, nn, k)\n",
    "stacked = np.stack([np.vstack(Inv[str(n)].values) for n in range(nn)], axis=1)  # shape: (num_rows, nn, k)\n",
    "if n==1:\n",
    "    stacked=stacked.reshape((-1,1)).shape\n",
    "# Multiply with values (shape: (k,))\n",
    "dot_products = np.dot(stacked, values)  # shape: (num_rows, nn)\n",
    "\n",
    "# Weight by topn_values (shape: (num_rows, nn))\n",
    "Inv['DS'] = np.sum(dot_products * topn_values, axis=1)"
   ]
  },
  {
   "cell_type": "code",
   "execution_count": null,
   "id": "351b3c2a",
   "metadata": {},
   "outputs": [],
   "source": [
    "nn=1"
   ]
  },
  {
   "cell_type": "code",
   "execution_count": 80,
   "id": "66eb2c16",
   "metadata": {},
   "outputs": [
    {
     "ename": "ValueError",
     "evalue": "could not broadcast input array from shape (50,2104234) into shape (1,2104234)",
     "output_type": "error",
     "traceback": [
      "\u001b[31m---------------------------------------------------------------------------\u001b[39m",
      "\u001b[31mValueError\u001b[39m                                Traceback (most recent call last)",
      "\u001b[36mCell\u001b[39m\u001b[36m \u001b[39m\u001b[32mIn[80]\u001b[39m\u001b[32m, line 2\u001b[39m\n\u001b[32m      1\u001b[39m \u001b[38;5;28;01mfor\u001b[39;00m n \u001b[38;5;129;01min\u001b[39;00m \u001b[38;5;28mrange\u001b[39m(nn):\n\u001b[32m----> \u001b[39m\u001b[32m2\u001b[39m     Inv[\u001b[38;5;28mstr\u001b[39m(n)]=np.array(\u001b[43mInv\u001b[49m\u001b[43m.\u001b[49m\u001b[43mapply\u001b[49m\u001b[43m(\u001b[49m\u001b[38;5;28;43;01mlambda\u001b[39;49;00m\u001b[43m \u001b[49m\u001b[43mrow\u001b[49m\u001b[43m:\u001b[49m\u001b[43m \u001b[49m\u001b[43mdata\u001b[49m\u001b[43m[\u001b[49m\u001b[43m(\u001b[49m\u001b[43mrow\u001b[49m\u001b[43m[\u001b[49m\u001b[33;43m'\u001b[39;49m\u001b[33;43mm\u001b[39;49m\u001b[33;43m'\u001b[39;49m\u001b[43m]\u001b[49m\u001b[43m,\u001b[49m\u001b[43m \u001b[49m\u001b[43mtop3_idx\u001b[49m\u001b[43m[\u001b[49m\u001b[43mrow\u001b[49m\u001b[43m[\u001b[49m\u001b[33;43m'\u001b[39;49m\u001b[33;43mID\u001b[39;49m\u001b[33;43m'\u001b[39;49m\u001b[43m]\u001b[49m\u001b[43m,\u001b[49m\u001b[43mn\u001b[49m\u001b[43m]\u001b[49m\u001b[43m)\u001b[49m\u001b[43m]\u001b[49m\u001b[43m[\u001b[49m\u001b[38;5;28;43mint\u001b[39;49m\u001b[43m(\u001b[49m\u001b[43mrow\u001b[49m\u001b[43m[\u001b[49m\u001b[33;43m'\u001b[39;49m\u001b[33;43mMWS_OT\u001b[39;49m\u001b[33;43m'\u001b[39;49m\u001b[43m]\u001b[49m\u001b[43m)\u001b[49m\u001b[43m,\u001b[49m\u001b[38;5;28;43mint\u001b[39;49m\u001b[43m(\u001b[49m\u001b[43mrow\u001b[49m\u001b[43m[\u001b[49m\u001b[33;43m'\u001b[39;49m\u001b[33;43mMax_In\u001b[39;49m\u001b[33;43m'\u001b[39;49m\u001b[43m]\u001b[49m\u001b[43m)\u001b[49m\u001b[43m]\u001b[49m\u001b[43m,\u001b[49m\u001b[43m \u001b[49m\u001b[43maxis\u001b[49m\u001b[43m=\u001b[49m\u001b[32;43m1\u001b[39;49m\u001b[43m)\u001b[49m)\n",
      "\u001b[36mFile \u001b[39m\u001b[32mc:\\Users\\solei\\Documents\\Binv\\Binv-main\\venv2\\Lib\\site-packages\\geopandas\\geodataframe.py:1991\u001b[39m, in \u001b[36mGeoDataFrame.apply\u001b[39m\u001b[34m(self, func, axis, raw, result_type, args, **kwargs)\u001b[39m\n\u001b[32m   1981\u001b[39m \u001b[38;5;129m@doc\u001b[39m(pd.DataFrame)\n\u001b[32m   1982\u001b[39m \u001b[38;5;28;01mdef\u001b[39;00m\u001b[38;5;250m \u001b[39m\u001b[34mapply\u001b[39m(\n\u001b[32m   1983\u001b[39m     \u001b[38;5;28mself\u001b[39m,\n\u001b[32m   (...)\u001b[39m\u001b[32m   1989\u001b[39m     **kwargs,\n\u001b[32m   1990\u001b[39m ):\n\u001b[32m-> \u001b[39m\u001b[32m1991\u001b[39m     result = \u001b[38;5;28;43msuper\u001b[39;49m\u001b[43m(\u001b[49m\u001b[43m)\u001b[49m\u001b[43m.\u001b[49m\u001b[43mapply\u001b[49m\u001b[43m(\u001b[49m\n\u001b[32m   1992\u001b[39m \u001b[43m        \u001b[49m\u001b[43mfunc\u001b[49m\u001b[43m,\u001b[49m\u001b[43m \u001b[49m\u001b[43maxis\u001b[49m\u001b[43m=\u001b[49m\u001b[43maxis\u001b[49m\u001b[43m,\u001b[49m\u001b[43m \u001b[49m\u001b[43mraw\u001b[49m\u001b[43m=\u001b[49m\u001b[43mraw\u001b[49m\u001b[43m,\u001b[49m\u001b[43m \u001b[49m\u001b[43mresult_type\u001b[49m\u001b[43m=\u001b[49m\u001b[43mresult_type\u001b[49m\u001b[43m,\u001b[49m\u001b[43m \u001b[49m\u001b[43margs\u001b[49m\u001b[43m=\u001b[49m\u001b[43margs\u001b[49m\u001b[43m,\u001b[49m\u001b[43m \u001b[49m\u001b[43m*\u001b[49m\u001b[43m*\u001b[49m\u001b[43mkwargs\u001b[49m\n\u001b[32m   1993\u001b[39m \u001b[43m    \u001b[49m\u001b[43m)\u001b[49m\n\u001b[32m   1994\u001b[39m     \u001b[38;5;66;03m# Reconstruct gdf if it was lost by apply\u001b[39;00m\n\u001b[32m   1995\u001b[39m     \u001b[38;5;28;01mif\u001b[39;00m (\n\u001b[32m   1996\u001b[39m         \u001b[38;5;28misinstance\u001b[39m(result, DataFrame)\n\u001b[32m   1997\u001b[39m         \u001b[38;5;129;01mand\u001b[39;00m \u001b[38;5;28mself\u001b[39m._geometry_column_name \u001b[38;5;129;01min\u001b[39;00m result.columns\n\u001b[32m   1998\u001b[39m     ):\n\u001b[32m   1999\u001b[39m         \u001b[38;5;66;03m# axis=1 apply will split GeometryDType to object, try and cast back\u001b[39;00m\n",
      "\u001b[36mFile \u001b[39m\u001b[32mc:\\Users\\solei\\Documents\\Binv\\Binv-main\\venv2\\Lib\\site-packages\\pandas\\core\\frame.py:10381\u001b[39m, in \u001b[36mDataFrame.apply\u001b[39m\u001b[34m(self, func, axis, raw, result_type, args, by_row, engine, engine_kwargs, **kwargs)\u001b[39m\n\u001b[32m  10367\u001b[39m \u001b[38;5;28;01mfrom\u001b[39;00m\u001b[38;5;250m \u001b[39m\u001b[34;01mpandas\u001b[39;00m\u001b[34;01m.\u001b[39;00m\u001b[34;01mcore\u001b[39;00m\u001b[34;01m.\u001b[39;00m\u001b[34;01mapply\u001b[39;00m\u001b[38;5;250m \u001b[39m\u001b[38;5;28;01mimport\u001b[39;00m frame_apply\n\u001b[32m  10369\u001b[39m op = frame_apply(\n\u001b[32m  10370\u001b[39m     \u001b[38;5;28mself\u001b[39m,\n\u001b[32m  10371\u001b[39m     func=func,\n\u001b[32m   (...)\u001b[39m\u001b[32m  10379\u001b[39m     kwargs=kwargs,\n\u001b[32m  10380\u001b[39m )\n\u001b[32m> \u001b[39m\u001b[32m10381\u001b[39m \u001b[38;5;28;01mreturn\u001b[39;00m \u001b[43mop\u001b[49m\u001b[43m.\u001b[49m\u001b[43mapply\u001b[49m\u001b[43m(\u001b[49m\u001b[43m)\u001b[49m.__finalize__(\u001b[38;5;28mself\u001b[39m, method=\u001b[33m\"\u001b[39m\u001b[33mapply\u001b[39m\u001b[33m\"\u001b[39m)\n",
      "\u001b[36mFile \u001b[39m\u001b[32mc:\\Users\\solei\\Documents\\Binv\\Binv-main\\venv2\\Lib\\site-packages\\pandas\\core\\apply.py:916\u001b[39m, in \u001b[36mFrameApply.apply\u001b[39m\u001b[34m(self)\u001b[39m\n\u001b[32m    913\u001b[39m \u001b[38;5;28;01melif\u001b[39;00m \u001b[38;5;28mself\u001b[39m.raw:\n\u001b[32m    914\u001b[39m     \u001b[38;5;28;01mreturn\u001b[39;00m \u001b[38;5;28mself\u001b[39m.apply_raw(engine=\u001b[38;5;28mself\u001b[39m.engine, engine_kwargs=\u001b[38;5;28mself\u001b[39m.engine_kwargs)\n\u001b[32m--> \u001b[39m\u001b[32m916\u001b[39m \u001b[38;5;28;01mreturn\u001b[39;00m \u001b[38;5;28;43mself\u001b[39;49m\u001b[43m.\u001b[49m\u001b[43mapply_standard\u001b[49m\u001b[43m(\u001b[49m\u001b[43m)\u001b[49m\n",
      "\u001b[36mFile \u001b[39m\u001b[32mc:\\Users\\solei\\Documents\\Binv\\Binv-main\\venv2\\Lib\\site-packages\\pandas\\core\\apply.py:1063\u001b[39m, in \u001b[36mFrameApply.apply_standard\u001b[39m\u001b[34m(self)\u001b[39m\n\u001b[32m   1061\u001b[39m \u001b[38;5;28;01mdef\u001b[39;00m\u001b[38;5;250m \u001b[39m\u001b[34mapply_standard\u001b[39m(\u001b[38;5;28mself\u001b[39m):\n\u001b[32m   1062\u001b[39m     \u001b[38;5;28;01mif\u001b[39;00m \u001b[38;5;28mself\u001b[39m.engine == \u001b[33m\"\u001b[39m\u001b[33mpython\u001b[39m\u001b[33m\"\u001b[39m:\n\u001b[32m-> \u001b[39m\u001b[32m1063\u001b[39m         results, res_index = \u001b[38;5;28;43mself\u001b[39;49m\u001b[43m.\u001b[49m\u001b[43mapply_series_generator\u001b[49m\u001b[43m(\u001b[49m\u001b[43m)\u001b[49m\n\u001b[32m   1064\u001b[39m     \u001b[38;5;28;01melse\u001b[39;00m:\n\u001b[32m   1065\u001b[39m         results, res_index = \u001b[38;5;28mself\u001b[39m.apply_series_numba()\n",
      "\u001b[36mFile \u001b[39m\u001b[32mc:\\Users\\solei\\Documents\\Binv\\Binv-main\\venv2\\Lib\\site-packages\\pandas\\core\\apply.py:1079\u001b[39m, in \u001b[36mFrameApply.apply_series_generator\u001b[39m\u001b[34m(self)\u001b[39m\n\u001b[32m   1076\u001b[39m results = {}\n\u001b[32m   1078\u001b[39m \u001b[38;5;28;01mwith\u001b[39;00m option_context(\u001b[33m\"\u001b[39m\u001b[33mmode.chained_assignment\u001b[39m\u001b[33m\"\u001b[39m, \u001b[38;5;28;01mNone\u001b[39;00m):\n\u001b[32m-> \u001b[39m\u001b[32m1079\u001b[39m \u001b[43m    \u001b[49m\u001b[38;5;28;43;01mfor\u001b[39;49;00m\u001b[43m \u001b[49m\u001b[43mi\u001b[49m\u001b[43m,\u001b[49m\u001b[43m \u001b[49m\u001b[43mv\u001b[49m\u001b[43m \u001b[49m\u001b[38;5;129;43;01min\u001b[39;49;00m\u001b[43m \u001b[49m\u001b[38;5;28;43menumerate\u001b[39;49m\u001b[43m(\u001b[49m\u001b[43mseries_gen\u001b[49m\u001b[43m)\u001b[49m\u001b[43m:\u001b[49m\n\u001b[32m   1080\u001b[39m \u001b[43m        \u001b[49m\u001b[38;5;66;43;03m# ignore SettingWithCopy here in case the user mutates\u001b[39;49;00m\n\u001b[32m   1081\u001b[39m \u001b[43m        \u001b[49m\u001b[43mresults\u001b[49m\u001b[43m[\u001b[49m\u001b[43mi\u001b[49m\u001b[43m]\u001b[49m\u001b[43m \u001b[49m\u001b[43m=\u001b[49m\u001b[43m \u001b[49m\u001b[38;5;28;43mself\u001b[39;49m\u001b[43m.\u001b[49m\u001b[43mfunc\u001b[49m\u001b[43m(\u001b[49m\u001b[43mv\u001b[49m\u001b[43m,\u001b[49m\u001b[43m \u001b[49m\u001b[43m*\u001b[49m\u001b[38;5;28;43mself\u001b[39;49m\u001b[43m.\u001b[49m\u001b[43margs\u001b[49m\u001b[43m,\u001b[49m\u001b[43m \u001b[49m\u001b[43m*\u001b[49m\u001b[43m*\u001b[49m\u001b[38;5;28;43mself\u001b[39;49m\u001b[43m.\u001b[49m\u001b[43mkwargs\u001b[49m\u001b[43m)\u001b[49m\n\u001b[32m   1082\u001b[39m \u001b[43m        \u001b[49m\u001b[38;5;28;43;01mif\u001b[39;49;00m\u001b[43m \u001b[49m\u001b[38;5;28;43misinstance\u001b[39;49m\u001b[43m(\u001b[49m\u001b[43mresults\u001b[49m\u001b[43m[\u001b[49m\u001b[43mi\u001b[49m\u001b[43m]\u001b[49m\u001b[43m,\u001b[49m\u001b[43m \u001b[49m\u001b[43mABCSeries\u001b[49m\u001b[43m)\u001b[49m\u001b[43m:\u001b[49m\n\u001b[32m   1083\u001b[39m \u001b[43m            \u001b[49m\u001b[38;5;66;43;03m# If we have a view on v, we need to make a copy because\u001b[39;49;00m\n\u001b[32m   1084\u001b[39m \u001b[43m            \u001b[49m\u001b[38;5;66;43;03m#  series_generator will swap out the underlying data\u001b[39;49;00m\n",
      "\u001b[36mFile \u001b[39m\u001b[32mc:\\Users\\solei\\Documents\\Binv\\Binv-main\\venv2\\Lib\\site-packages\\pandas\\core\\apply.py:1244\u001b[39m, in \u001b[36mFrameColumnApply.series_generator\u001b[39m\u001b[34m(self)\u001b[39m\n\u001b[32m   1242\u001b[39m \u001b[38;5;129m@property\u001b[39m\n\u001b[32m   1243\u001b[39m \u001b[38;5;28;01mdef\u001b[39;00m\u001b[38;5;250m \u001b[39m\u001b[34mseries_generator\u001b[39m(\u001b[38;5;28mself\u001b[39m) -> Generator[Series, \u001b[38;5;28;01mNone\u001b[39;00m, \u001b[38;5;28;01mNone\u001b[39;00m]:\n\u001b[32m-> \u001b[39m\u001b[32m1244\u001b[39m     values = \u001b[38;5;28;43mself\u001b[39;49m\u001b[43m.\u001b[49m\u001b[43mvalues\u001b[49m\n\u001b[32m   1245\u001b[39m     values = ensure_wrapped_if_datetimelike(values)\n\u001b[32m   1246\u001b[39m     \u001b[38;5;28;01massert\u001b[39;00m \u001b[38;5;28mlen\u001b[39m(values) > \u001b[32m0\u001b[39m\n",
      "\u001b[36mFile \u001b[39m\u001b[32mpandas/_libs/properties.pyx:36\u001b[39m, in \u001b[36mpandas._libs.properties.CachedProperty.__get__\u001b[39m\u001b[34m()\u001b[39m\n",
      "\u001b[36mFile \u001b[39m\u001b[32mc:\\Users\\solei\\Documents\\Binv\\Binv-main\\venv2\\Lib\\site-packages\\pandas\\core\\apply.py:862\u001b[39m, in \u001b[36mFrameApply.values\u001b[39m\u001b[34m(self)\u001b[39m\n\u001b[32m    860\u001b[39m \u001b[38;5;129m@cache_readonly\u001b[39m\n\u001b[32m    861\u001b[39m \u001b[38;5;28;01mdef\u001b[39;00m\u001b[38;5;250m \u001b[39m\u001b[34mvalues\u001b[39m(\u001b[38;5;28mself\u001b[39m):\n\u001b[32m--> \u001b[39m\u001b[32m862\u001b[39m     \u001b[38;5;28;01mreturn\u001b[39;00m \u001b[38;5;28;43mself\u001b[39;49m\u001b[43m.\u001b[49m\u001b[43mobj\u001b[49m\u001b[43m.\u001b[49m\u001b[43mvalues\u001b[49m\n",
      "\u001b[36mFile \u001b[39m\u001b[32mc:\\Users\\solei\\Documents\\Binv\\Binv-main\\venv2\\Lib\\site-packages\\pandas\\core\\frame.py:12671\u001b[39m, in \u001b[36mDataFrame.values\u001b[39m\u001b[34m(self)\u001b[39m\n\u001b[32m  12597\u001b[39m \u001b[38;5;129m@property\u001b[39m\n\u001b[32m  12598\u001b[39m \u001b[38;5;28;01mdef\u001b[39;00m\u001b[38;5;250m \u001b[39m\u001b[34mvalues\u001b[39m(\u001b[38;5;28mself\u001b[39m) -> np.ndarray:\n\u001b[32m  12599\u001b[39m \u001b[38;5;250m    \u001b[39m\u001b[33;03m\"\"\"\u001b[39;00m\n\u001b[32m  12600\u001b[39m \u001b[33;03m    Return a Numpy representation of the DataFrame.\u001b[39;00m\n\u001b[32m  12601\u001b[39m \n\u001b[32m   (...)\u001b[39m\u001b[32m  12669\u001b[39m \u001b[33;03m           ['monkey', nan, None]], dtype=object)\u001b[39;00m\n\u001b[32m  12670\u001b[39m \u001b[33;03m    \"\"\"\u001b[39;00m\n\u001b[32m> \u001b[39m\u001b[32m12671\u001b[39m     \u001b[38;5;28;01mreturn\u001b[39;00m \u001b[38;5;28;43mself\u001b[39;49m\u001b[43m.\u001b[49m\u001b[43m_mgr\u001b[49m\u001b[43m.\u001b[49m\u001b[43mas_array\u001b[49m\u001b[43m(\u001b[49m\u001b[43m)\u001b[49m\n",
      "\u001b[36mFile \u001b[39m\u001b[32mc:\\Users\\solei\\Documents\\Binv\\Binv-main\\venv2\\Lib\\site-packages\\pandas\\core\\internals\\managers.py:1694\u001b[39m, in \u001b[36mBlockManager.as_array\u001b[39m\u001b[34m(self, dtype, copy, na_value)\u001b[39m\n\u001b[32m   1692\u001b[39m         arr.flags.writeable = \u001b[38;5;28;01mFalse\u001b[39;00m\n\u001b[32m   1693\u001b[39m \u001b[38;5;28;01melse\u001b[39;00m:\n\u001b[32m-> \u001b[39m\u001b[32m1694\u001b[39m     arr = \u001b[38;5;28;43mself\u001b[39;49m\u001b[43m.\u001b[49m\u001b[43m_interleave\u001b[49m\u001b[43m(\u001b[49m\u001b[43mdtype\u001b[49m\u001b[43m=\u001b[49m\u001b[43mdtype\u001b[49m\u001b[43m,\u001b[49m\u001b[43m \u001b[49m\u001b[43mna_value\u001b[49m\u001b[43m=\u001b[49m\u001b[43mna_value\u001b[49m\u001b[43m)\u001b[49m\n\u001b[32m   1695\u001b[39m     \u001b[38;5;66;03m# The underlying data was copied within _interleave, so no need\u001b[39;00m\n\u001b[32m   1696\u001b[39m     \u001b[38;5;66;03m# to further copy if copy=True or setting na_value\u001b[39;00m\n\u001b[32m   1698\u001b[39m \u001b[38;5;28;01mif\u001b[39;00m na_value \u001b[38;5;129;01mis\u001b[39;00m lib.no_default:\n",
      "\u001b[36mFile \u001b[39m\u001b[32mc:\\Users\\solei\\Documents\\Binv\\Binv-main\\venv2\\Lib\\site-packages\\pandas\\core\\internals\\managers.py:1736\u001b[39m, in \u001b[36mBlockManager._interleave\u001b[39m\u001b[34m(self, dtype, na_value)\u001b[39m\n\u001b[32m   1734\u001b[39m     rl = blk.mgr_locs\n\u001b[32m   1735\u001b[39m     arr = blk.get_values(dtype)\n\u001b[32m-> \u001b[39m\u001b[32m1736\u001b[39m     \u001b[43mresult\u001b[49m\u001b[43m[\u001b[49m\u001b[43mrl\u001b[49m\u001b[43m.\u001b[49m\u001b[43mindexer\u001b[49m\u001b[43m]\u001b[49m = arr\n\u001b[32m   1737\u001b[39m     itemmask[rl.indexer] = \u001b[32m1\u001b[39m\n\u001b[32m   1738\u001b[39m \u001b[38;5;28;01mreturn\u001b[39;00m result\n",
      "\u001b[31mValueError\u001b[39m: could not broadcast input array from shape (50,2104234) into shape (1,2104234)"
     ]
    }
   ],
   "source": [
    "for n in range(nn):\n",
    "    Inv[str(n)]=np.array(Inv.apply(lambda row: data[(row['m'], top3_idx[row['ID'],n])][int(row['MWS_OT']),int(row['Max_In'])], axis=1))"
   ]
  },
  {
   "cell_type": "code",
   "execution_count": 23,
   "id": "b4dad49e",
   "metadata": {},
   "outputs": [
    {
     "ename": "ValueError",
     "evalue": "could not broadcast input array from shape (50,2553709) into shape (1,2553709)",
     "output_type": "error",
     "traceback": [
      "\u001b[31m---------------------------------------------------------------------------\u001b[39m",
      "\u001b[31mValueError\u001b[39m                                Traceback (most recent call last)",
      "\u001b[36mCell\u001b[39m\u001b[36m \u001b[39m\u001b[32mIn[23]\u001b[39m\u001b[32m, line 5\u001b[39m\n\u001b[32m      3\u001b[39m     topn_values=topn_values*\u001b[32m0\u001b[39m+\u001b[32m1\u001b[39m\n\u001b[32m      4\u001b[39m \u001b[38;5;28;01mfor\u001b[39;00m n \u001b[38;5;129;01min\u001b[39;00m \u001b[38;5;28mrange\u001b[39m(nn):\n\u001b[32m----> \u001b[39m\u001b[32m5\u001b[39m     Inv[\u001b[33m'\u001b[39m\u001b[33mDS\u001b[39m\u001b[33m'\u001b[39m]+=\u001b[43mInv\u001b[49m\u001b[43m.\u001b[49m\u001b[43mapply\u001b[49m\u001b[43m(\u001b[49m\u001b[38;5;28;43;01mlambda\u001b[39;49;00m\u001b[43m \u001b[49m\u001b[43mrow\u001b[49m\u001b[43m:\u001b[49m\u001b[43m \u001b[49m\u001b[43mnp\u001b[49m\u001b[43m.\u001b[49m\u001b[43msum\u001b[49m\u001b[43m(\u001b[49m\u001b[43mrow\u001b[49m\u001b[43m[\u001b[49m\u001b[38;5;28;43mstr\u001b[39;49m\u001b[43m(\u001b[49m\u001b[43mn\u001b[49m\u001b[43m)\u001b[49m\u001b[43m]\u001b[49m\u001b[43m*\u001b[49m\u001b[43mvalues\u001b[49m\u001b[43m)\u001b[49m\u001b[43m,\u001b[49m\u001b[43maxis\u001b[49m\u001b[43m=\u001b[49m\u001b[32;43m1\u001b[39;49m\u001b[43m)\u001b[49m*topn_values[:,n]\n",
      "\u001b[36mFile \u001b[39m\u001b[32mc:\\Users\\solei\\Documents\\Binv\\Binv-main\\venv2\\Lib\\site-packages\\geopandas\\geodataframe.py:1991\u001b[39m, in \u001b[36mGeoDataFrame.apply\u001b[39m\u001b[34m(self, func, axis, raw, result_type, args, **kwargs)\u001b[39m\n\u001b[32m   1981\u001b[39m \u001b[38;5;129m@doc\u001b[39m(pd.DataFrame)\n\u001b[32m   1982\u001b[39m \u001b[38;5;28;01mdef\u001b[39;00m\u001b[38;5;250m \u001b[39m\u001b[34mapply\u001b[39m(\n\u001b[32m   1983\u001b[39m     \u001b[38;5;28mself\u001b[39m,\n\u001b[32m   (...)\u001b[39m\u001b[32m   1989\u001b[39m     **kwargs,\n\u001b[32m   1990\u001b[39m ):\n\u001b[32m-> \u001b[39m\u001b[32m1991\u001b[39m     result = \u001b[38;5;28;43msuper\u001b[39;49m\u001b[43m(\u001b[49m\u001b[43m)\u001b[49m\u001b[43m.\u001b[49m\u001b[43mapply\u001b[49m\u001b[43m(\u001b[49m\n\u001b[32m   1992\u001b[39m \u001b[43m        \u001b[49m\u001b[43mfunc\u001b[49m\u001b[43m,\u001b[49m\u001b[43m \u001b[49m\u001b[43maxis\u001b[49m\u001b[43m=\u001b[49m\u001b[43maxis\u001b[49m\u001b[43m,\u001b[49m\u001b[43m \u001b[49m\u001b[43mraw\u001b[49m\u001b[43m=\u001b[49m\u001b[43mraw\u001b[49m\u001b[43m,\u001b[49m\u001b[43m \u001b[49m\u001b[43mresult_type\u001b[49m\u001b[43m=\u001b[49m\u001b[43mresult_type\u001b[49m\u001b[43m,\u001b[49m\u001b[43m \u001b[49m\u001b[43margs\u001b[49m\u001b[43m=\u001b[49m\u001b[43margs\u001b[49m\u001b[43m,\u001b[49m\u001b[43m \u001b[49m\u001b[43m*\u001b[49m\u001b[43m*\u001b[49m\u001b[43mkwargs\u001b[49m\n\u001b[32m   1993\u001b[39m \u001b[43m    \u001b[49m\u001b[43m)\u001b[49m\n\u001b[32m   1994\u001b[39m     \u001b[38;5;66;03m# Reconstruct gdf if it was lost by apply\u001b[39;00m\n\u001b[32m   1995\u001b[39m     \u001b[38;5;28;01mif\u001b[39;00m (\n\u001b[32m   1996\u001b[39m         \u001b[38;5;28misinstance\u001b[39m(result, DataFrame)\n\u001b[32m   1997\u001b[39m         \u001b[38;5;129;01mand\u001b[39;00m \u001b[38;5;28mself\u001b[39m._geometry_column_name \u001b[38;5;129;01min\u001b[39;00m result.columns\n\u001b[32m   1998\u001b[39m     ):\n\u001b[32m   1999\u001b[39m         \u001b[38;5;66;03m# axis=1 apply will split GeometryDType to object, try and cast back\u001b[39;00m\n",
      "\u001b[36mFile \u001b[39m\u001b[32mc:\\Users\\solei\\Documents\\Binv\\Binv-main\\venv2\\Lib\\site-packages\\pandas\\core\\frame.py:10381\u001b[39m, in \u001b[36mDataFrame.apply\u001b[39m\u001b[34m(self, func, axis, raw, result_type, args, by_row, engine, engine_kwargs, **kwargs)\u001b[39m\n\u001b[32m  10367\u001b[39m \u001b[38;5;28;01mfrom\u001b[39;00m\u001b[38;5;250m \u001b[39m\u001b[34;01mpandas\u001b[39;00m\u001b[34;01m.\u001b[39;00m\u001b[34;01mcore\u001b[39;00m\u001b[34;01m.\u001b[39;00m\u001b[34;01mapply\u001b[39;00m\u001b[38;5;250m \u001b[39m\u001b[38;5;28;01mimport\u001b[39;00m frame_apply\n\u001b[32m  10369\u001b[39m op = frame_apply(\n\u001b[32m  10370\u001b[39m     \u001b[38;5;28mself\u001b[39m,\n\u001b[32m  10371\u001b[39m     func=func,\n\u001b[32m   (...)\u001b[39m\u001b[32m  10379\u001b[39m     kwargs=kwargs,\n\u001b[32m  10380\u001b[39m )\n\u001b[32m> \u001b[39m\u001b[32m10381\u001b[39m \u001b[38;5;28;01mreturn\u001b[39;00m \u001b[43mop\u001b[49m\u001b[43m.\u001b[49m\u001b[43mapply\u001b[49m\u001b[43m(\u001b[49m\u001b[43m)\u001b[49m.__finalize__(\u001b[38;5;28mself\u001b[39m, method=\u001b[33m\"\u001b[39m\u001b[33mapply\u001b[39m\u001b[33m\"\u001b[39m)\n",
      "\u001b[36mFile \u001b[39m\u001b[32mc:\\Users\\solei\\Documents\\Binv\\Binv-main\\venv2\\Lib\\site-packages\\pandas\\core\\apply.py:916\u001b[39m, in \u001b[36mFrameApply.apply\u001b[39m\u001b[34m(self)\u001b[39m\n\u001b[32m    913\u001b[39m \u001b[38;5;28;01melif\u001b[39;00m \u001b[38;5;28mself\u001b[39m.raw:\n\u001b[32m    914\u001b[39m     \u001b[38;5;28;01mreturn\u001b[39;00m \u001b[38;5;28mself\u001b[39m.apply_raw(engine=\u001b[38;5;28mself\u001b[39m.engine, engine_kwargs=\u001b[38;5;28mself\u001b[39m.engine_kwargs)\n\u001b[32m--> \u001b[39m\u001b[32m916\u001b[39m \u001b[38;5;28;01mreturn\u001b[39;00m \u001b[38;5;28;43mself\u001b[39;49m\u001b[43m.\u001b[49m\u001b[43mapply_standard\u001b[49m\u001b[43m(\u001b[49m\u001b[43m)\u001b[49m\n",
      "\u001b[36mFile \u001b[39m\u001b[32mc:\\Users\\solei\\Documents\\Binv\\Binv-main\\venv2\\Lib\\site-packages\\pandas\\core\\apply.py:1063\u001b[39m, in \u001b[36mFrameApply.apply_standard\u001b[39m\u001b[34m(self)\u001b[39m\n\u001b[32m   1061\u001b[39m \u001b[38;5;28;01mdef\u001b[39;00m\u001b[38;5;250m \u001b[39m\u001b[34mapply_standard\u001b[39m(\u001b[38;5;28mself\u001b[39m):\n\u001b[32m   1062\u001b[39m     \u001b[38;5;28;01mif\u001b[39;00m \u001b[38;5;28mself\u001b[39m.engine == \u001b[33m\"\u001b[39m\u001b[33mpython\u001b[39m\u001b[33m\"\u001b[39m:\n\u001b[32m-> \u001b[39m\u001b[32m1063\u001b[39m         results, res_index = \u001b[38;5;28;43mself\u001b[39;49m\u001b[43m.\u001b[49m\u001b[43mapply_series_generator\u001b[49m\u001b[43m(\u001b[49m\u001b[43m)\u001b[49m\n\u001b[32m   1064\u001b[39m     \u001b[38;5;28;01melse\u001b[39;00m:\n\u001b[32m   1065\u001b[39m         results, res_index = \u001b[38;5;28mself\u001b[39m.apply_series_numba()\n",
      "\u001b[36mFile \u001b[39m\u001b[32mc:\\Users\\solei\\Documents\\Binv\\Binv-main\\venv2\\Lib\\site-packages\\pandas\\core\\apply.py:1079\u001b[39m, in \u001b[36mFrameApply.apply_series_generator\u001b[39m\u001b[34m(self)\u001b[39m\n\u001b[32m   1076\u001b[39m results = {}\n\u001b[32m   1078\u001b[39m \u001b[38;5;28;01mwith\u001b[39;00m option_context(\u001b[33m\"\u001b[39m\u001b[33mmode.chained_assignment\u001b[39m\u001b[33m\"\u001b[39m, \u001b[38;5;28;01mNone\u001b[39;00m):\n\u001b[32m-> \u001b[39m\u001b[32m1079\u001b[39m \u001b[43m    \u001b[49m\u001b[38;5;28;43;01mfor\u001b[39;49;00m\u001b[43m \u001b[49m\u001b[43mi\u001b[49m\u001b[43m,\u001b[49m\u001b[43m \u001b[49m\u001b[43mv\u001b[49m\u001b[43m \u001b[49m\u001b[38;5;129;43;01min\u001b[39;49;00m\u001b[43m \u001b[49m\u001b[38;5;28;43menumerate\u001b[39;49m\u001b[43m(\u001b[49m\u001b[43mseries_gen\u001b[49m\u001b[43m)\u001b[49m\u001b[43m:\u001b[49m\n\u001b[32m   1080\u001b[39m \u001b[43m        \u001b[49m\u001b[38;5;66;43;03m# ignore SettingWithCopy here in case the user mutates\u001b[39;49;00m\n\u001b[32m   1081\u001b[39m \u001b[43m        \u001b[49m\u001b[43mresults\u001b[49m\u001b[43m[\u001b[49m\u001b[43mi\u001b[49m\u001b[43m]\u001b[49m\u001b[43m \u001b[49m\u001b[43m=\u001b[49m\u001b[43m \u001b[49m\u001b[38;5;28;43mself\u001b[39;49m\u001b[43m.\u001b[49m\u001b[43mfunc\u001b[49m\u001b[43m(\u001b[49m\u001b[43mv\u001b[49m\u001b[43m,\u001b[49m\u001b[43m \u001b[49m\u001b[43m*\u001b[49m\u001b[38;5;28;43mself\u001b[39;49m\u001b[43m.\u001b[49m\u001b[43margs\u001b[49m\u001b[43m,\u001b[49m\u001b[43m \u001b[49m\u001b[43m*\u001b[49m\u001b[43m*\u001b[49m\u001b[38;5;28;43mself\u001b[39;49m\u001b[43m.\u001b[49m\u001b[43mkwargs\u001b[49m\u001b[43m)\u001b[49m\n\u001b[32m   1082\u001b[39m \u001b[43m        \u001b[49m\u001b[38;5;28;43;01mif\u001b[39;49;00m\u001b[43m \u001b[49m\u001b[38;5;28;43misinstance\u001b[39;49m\u001b[43m(\u001b[49m\u001b[43mresults\u001b[49m\u001b[43m[\u001b[49m\u001b[43mi\u001b[49m\u001b[43m]\u001b[49m\u001b[43m,\u001b[49m\u001b[43m \u001b[49m\u001b[43mABCSeries\u001b[49m\u001b[43m)\u001b[49m\u001b[43m:\u001b[49m\n\u001b[32m   1083\u001b[39m \u001b[43m            \u001b[49m\u001b[38;5;66;43;03m# If we have a view on v, we need to make a copy because\u001b[39;49;00m\n\u001b[32m   1084\u001b[39m \u001b[43m            \u001b[49m\u001b[38;5;66;43;03m#  series_generator will swap out the underlying data\u001b[39;49;00m\n",
      "\u001b[36mFile \u001b[39m\u001b[32mc:\\Users\\solei\\Documents\\Binv\\Binv-main\\venv2\\Lib\\site-packages\\pandas\\core\\apply.py:1244\u001b[39m, in \u001b[36mFrameColumnApply.series_generator\u001b[39m\u001b[34m(self)\u001b[39m\n\u001b[32m   1242\u001b[39m \u001b[38;5;129m@property\u001b[39m\n\u001b[32m   1243\u001b[39m \u001b[38;5;28;01mdef\u001b[39;00m\u001b[38;5;250m \u001b[39m\u001b[34mseries_generator\u001b[39m(\u001b[38;5;28mself\u001b[39m) -> Generator[Series, \u001b[38;5;28;01mNone\u001b[39;00m, \u001b[38;5;28;01mNone\u001b[39;00m]:\n\u001b[32m-> \u001b[39m\u001b[32m1244\u001b[39m     values = \u001b[38;5;28;43mself\u001b[39;49m\u001b[43m.\u001b[49m\u001b[43mvalues\u001b[49m\n\u001b[32m   1245\u001b[39m     values = ensure_wrapped_if_datetimelike(values)\n\u001b[32m   1246\u001b[39m     \u001b[38;5;28;01massert\u001b[39;00m \u001b[38;5;28mlen\u001b[39m(values) > \u001b[32m0\u001b[39m\n",
      "\u001b[36mFile \u001b[39m\u001b[32mpandas/_libs/properties.pyx:36\u001b[39m, in \u001b[36mpandas._libs.properties.CachedProperty.__get__\u001b[39m\u001b[34m()\u001b[39m\n",
      "\u001b[36mFile \u001b[39m\u001b[32mc:\\Users\\solei\\Documents\\Binv\\Binv-main\\venv2\\Lib\\site-packages\\pandas\\core\\apply.py:862\u001b[39m, in \u001b[36mFrameApply.values\u001b[39m\u001b[34m(self)\u001b[39m\n\u001b[32m    860\u001b[39m \u001b[38;5;129m@cache_readonly\u001b[39m\n\u001b[32m    861\u001b[39m \u001b[38;5;28;01mdef\u001b[39;00m\u001b[38;5;250m \u001b[39m\u001b[34mvalues\u001b[39m(\u001b[38;5;28mself\u001b[39m):\n\u001b[32m--> \u001b[39m\u001b[32m862\u001b[39m     \u001b[38;5;28;01mreturn\u001b[39;00m \u001b[38;5;28;43mself\u001b[39;49m\u001b[43m.\u001b[49m\u001b[43mobj\u001b[49m\u001b[43m.\u001b[49m\u001b[43mvalues\u001b[49m\n",
      "\u001b[36mFile \u001b[39m\u001b[32mc:\\Users\\solei\\Documents\\Binv\\Binv-main\\venv2\\Lib\\site-packages\\pandas\\core\\frame.py:12671\u001b[39m, in \u001b[36mDataFrame.values\u001b[39m\u001b[34m(self)\u001b[39m\n\u001b[32m  12597\u001b[39m \u001b[38;5;129m@property\u001b[39m\n\u001b[32m  12598\u001b[39m \u001b[38;5;28;01mdef\u001b[39;00m\u001b[38;5;250m \u001b[39m\u001b[34mvalues\u001b[39m(\u001b[38;5;28mself\u001b[39m) -> np.ndarray:\n\u001b[32m  12599\u001b[39m \u001b[38;5;250m    \u001b[39m\u001b[33;03m\"\"\"\u001b[39;00m\n\u001b[32m  12600\u001b[39m \u001b[33;03m    Return a Numpy representation of the DataFrame.\u001b[39;00m\n\u001b[32m  12601\u001b[39m \n\u001b[32m   (...)\u001b[39m\u001b[32m  12669\u001b[39m \u001b[33;03m           ['monkey', nan, None]], dtype=object)\u001b[39;00m\n\u001b[32m  12670\u001b[39m \u001b[33;03m    \"\"\"\u001b[39;00m\n\u001b[32m> \u001b[39m\u001b[32m12671\u001b[39m     \u001b[38;5;28;01mreturn\u001b[39;00m \u001b[38;5;28;43mself\u001b[39;49m\u001b[43m.\u001b[49m\u001b[43m_mgr\u001b[49m\u001b[43m.\u001b[49m\u001b[43mas_array\u001b[49m\u001b[43m(\u001b[49m\u001b[43m)\u001b[49m\n",
      "\u001b[36mFile \u001b[39m\u001b[32mc:\\Users\\solei\\Documents\\Binv\\Binv-main\\venv2\\Lib\\site-packages\\pandas\\core\\internals\\managers.py:1694\u001b[39m, in \u001b[36mBlockManager.as_array\u001b[39m\u001b[34m(self, dtype, copy, na_value)\u001b[39m\n\u001b[32m   1692\u001b[39m         arr.flags.writeable = \u001b[38;5;28;01mFalse\u001b[39;00m\n\u001b[32m   1693\u001b[39m \u001b[38;5;28;01melse\u001b[39;00m:\n\u001b[32m-> \u001b[39m\u001b[32m1694\u001b[39m     arr = \u001b[38;5;28;43mself\u001b[39;49m\u001b[43m.\u001b[49m\u001b[43m_interleave\u001b[49m\u001b[43m(\u001b[49m\u001b[43mdtype\u001b[49m\u001b[43m=\u001b[49m\u001b[43mdtype\u001b[49m\u001b[43m,\u001b[49m\u001b[43m \u001b[49m\u001b[43mna_value\u001b[49m\u001b[43m=\u001b[49m\u001b[43mna_value\u001b[49m\u001b[43m)\u001b[49m\n\u001b[32m   1695\u001b[39m     \u001b[38;5;66;03m# The underlying data was copied within _interleave, so no need\u001b[39;00m\n\u001b[32m   1696\u001b[39m     \u001b[38;5;66;03m# to further copy if copy=True or setting na_value\u001b[39;00m\n\u001b[32m   1698\u001b[39m \u001b[38;5;28;01mif\u001b[39;00m na_value \u001b[38;5;129;01mis\u001b[39;00m lib.no_default:\n",
      "\u001b[36mFile \u001b[39m\u001b[32mc:\\Users\\solei\\Documents\\Binv\\Binv-main\\venv2\\Lib\\site-packages\\pandas\\core\\internals\\managers.py:1736\u001b[39m, in \u001b[36mBlockManager._interleave\u001b[39m\u001b[34m(self, dtype, na_value)\u001b[39m\n\u001b[32m   1734\u001b[39m     rl = blk.mgr_locs\n\u001b[32m   1735\u001b[39m     arr = blk.get_values(dtype)\n\u001b[32m-> \u001b[39m\u001b[32m1736\u001b[39m     \u001b[43mresult\u001b[49m\u001b[43m[\u001b[49m\u001b[43mrl\u001b[49m\u001b[43m.\u001b[49m\u001b[43mindexer\u001b[49m\u001b[43m]\u001b[49m = arr\n\u001b[32m   1737\u001b[39m     itemmask[rl.indexer] = \u001b[32m1\u001b[39m\n\u001b[32m   1738\u001b[39m \u001b[38;5;28;01mreturn\u001b[39;00m result\n",
      "\u001b[31mValueError\u001b[39m: could not broadcast input array from shape (50,2553709) into shape (1,2553709)"
     ]
    }
   ],
   "source": [
    "Inv['DS']=np.arange(0,len(Inv),1)*0\n",
    "if nn==1:\n",
    "    topn_values=topn_values*0+1\n",
    "for n in range(nn):\n",
    "    Inv['DS']+=Inv.apply(lambda row: np.sum(row[str(n)]*values),axis=1)*topn_values[:,n]"
   ]
  },
  {
   "cell_type": "code",
   "execution_count": 20,
   "id": "70885456",
   "metadata": {},
   "outputs": [
    {
     "data": {
      "text/plain": [
       "np.float64(29.23185704663511)"
      ]
     },
     "execution_count": 20,
     "metadata": {},
     "output_type": "execute_result"
    }
   ],
   "source": [
    "np.sum(Inv.DS*Inv['val_struct'])/1000000000"
   ]
  },
  {
   "cell_type": "code",
   "execution_count": 162,
   "id": "69252124",
   "metadata": {},
   "outputs": [
    {
     "data": {
      "text/plain": [
       "array([[0.61965, 0.06885, 0.06885],\n",
       "       [0.61965, 0.06885, 0.06885],\n",
       "       [0.61965, 0.06885, 0.06885],\n",
       "       ...,\n",
       "       [0.61965, 0.06885, 0.06885],\n",
       "       [0.61965, 0.06885, 0.06885],\n",
       "       [0.61965, 0.06885, 0.06885]], shape=(2553709, 3))"
      ]
     },
     "execution_count": 162,
     "metadata": {},
     "output_type": "execute_result"
    }
   ],
   "source": [
    "topn_values"
   ]
  },
  {
   "cell_type": "code",
   "execution_count": null,
   "id": "f4465169",
   "metadata": {},
   "outputs": [],
   "source": [
    "Inv['Dam']*Inv"
   ]
  },
  {
   "cell_type": "code",
   "execution_count": 173,
   "id": "94f64643",
   "metadata": {},
   "outputs": [
    {
     "data": {
      "text/plain": [
       "0          [0.30124998, 0.15866667, 0.041958336, 0.029708...\n",
       "1          [0.30124998, 0.15866667, 0.041958336, 0.029708...\n",
       "2          [0.30124998, 0.15866667, 0.041958336, 0.029708...\n",
       "3          [0.30124998, 0.15866667, 0.041958336, 0.029708...\n",
       "4          [0.30124998, 0.15866667, 0.041958336, 0.029708...\n",
       "                                 ...                        \n",
       "2553704    [0.39608335, 0.12516667, 0.028875003, 0.020166...\n",
       "2553705    [0.39608335, 0.12516667, 0.028875003, 0.020166...\n",
       "2553706    [0.39658335, 0.117375, 0.031333335, 0.02375000...\n",
       "2553707    [0.39658335, 0.117375, 0.031333335, 0.02375000...\n",
       "2553708    [0.39841664, 0.117125, 0.030958332, 0.02204166...\n",
       "Name: 0, Length: 2553709, dtype: object"
      ]
     },
     "execution_count": 173,
     "metadata": {},
     "output_type": "execute_result"
    }
   ],
   "source": [
    "Inv['0']"
   ]
  },
  {
   "cell_type": "code",
   "execution_count": 66,
   "id": "cef35f8c",
   "metadata": {},
   "outputs": [
    {
     "data": {
      "text/plain": [
       "np.float64(29234845106.804096)"
      ]
     },
     "execution_count": 66,
     "metadata": {},
     "output_type": "execute_result"
    }
   ],
   "source": [
    "np.sum(Inv['Dam']*Inv['val_struct'])"
   ]
  },
  {
   "cell_type": "code",
   "execution_count": 25,
   "id": "5055cf43",
   "metadata": {},
   "outputs": [
    {
     "data": {
      "text/plain": [
       "array([0.6035417 , 0.        , 0.        , 0.        , 0.        ,\n",
       "       0.        , 0.        , 0.        , 0.        , 0.        ,\n",
       "       0.        , 0.        , 0.        , 0.        , 0.08108333,\n",
       "       0.039375  , 0.117125  , 0.040375  , 0.0775    , 0.041     ,\n",
       "       0.        , 0.        , 0.        , 0.        , 0.        ,\n",
       "       0.        , 0.        , 0.        , 0.        , 0.        ,\n",
       "       0.        , 0.        , 0.        , 0.        , 0.        ,\n",
       "       0.        , 0.        , 0.        , 0.        , 0.        ,\n",
       "       0.        , 0.        , 0.        , 0.        , 0.        ,\n",
       "       0.        , 0.        , 0.        , 0.        , 0.        ],\n",
       "      dtype=float32)"
      ]
     },
     "execution_count": 25,
     "metadata": {},
     "output_type": "execute_result"
    }
   ],
   "source": [
    "data[(Y,100)][0,1]"
   ]
  },
  {
   "cell_type": "code",
   "execution_count": null,
   "id": "57e55231",
   "metadata": {},
   "outputs": [],
   "source": []
  }
 ],
 "metadata": {
  "kernelspec": {
   "display_name": "venv2",
   "language": "python",
   "name": "python3"
  },
  "language_info": {
   "codemirror_mode": {
    "name": "ipython",
    "version": 3
   },
   "file_extension": ".py",
   "mimetype": "text/x-python",
   "name": "python",
   "nbconvert_exporter": "python",
   "pygments_lexer": "ipython3",
   "version": "3.12.3"
  }
 },
 "nbformat": 4,
 "nbformat_minor": 5
}
